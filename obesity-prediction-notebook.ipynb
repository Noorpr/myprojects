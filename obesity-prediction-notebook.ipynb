{
 "cells": [
  {
   "cell_type": "code",
   "execution_count": 1,
   "id": "055870f6",
   "metadata": {
    "_cell_guid": "b1076dfc-b9ad-4769-8c92-a6c4dae69d19",
    "_uuid": "8f2839f25d086af736a60e9eeb907d3b93b6e0e5",
    "execution": {
     "iopub.execute_input": "2025-03-29T15:52:02.253134Z",
     "iopub.status.busy": "2025-03-29T15:52:02.252755Z",
     "iopub.status.idle": "2025-03-29T15:52:03.297513Z",
     "shell.execute_reply": "2025-03-29T15:52:03.296127Z"
    },
    "papermill": {
     "duration": 1.054643,
     "end_time": "2025-03-29T15:52:03.299253",
     "exception": false,
     "start_time": "2025-03-29T15:52:02.244610",
     "status": "completed"
    },
    "tags": []
   },
   "outputs": [
    {
     "name": "stdout",
     "output_type": "stream",
     "text": [
      "/kaggle/input/obesity-prediction-dataset/ObesityDataSet_raw_and_data_sinthetic.csv\n"
     ]
    }
   ],
   "source": [
    "# This Python 3 environment comes with many helpful analytics libraries installed\n",
    "# It is defined by the kaggle/python Docker image: https://github.com/kaggle/docker-python\n",
    "# For example, here's several helpful packages to load\n",
    "\n",
    "import numpy as np # linear algebra\n",
    "import pandas as pd # data processing, CSV file I/O (e.g. pd.read_csv)\n",
    "\n",
    "# Input data files are available in the read-only \"../input/\" directory\n",
    "# For example, running this (by clicking run or pressing Shift+Enter) will list all files under the input directory\n",
    "\n",
    "import os\n",
    "for dirname, _, filenames in os.walk('/kaggle/input'):\n",
    "    for filename in filenames:\n",
    "        print(os.path.join(dirname, filename))\n",
    "\n",
    "# You can write up to 20GB to the current directory (/kaggle/working/) that gets preserved as output when you create a version using \"Save & Run All\" \n",
    "# You can also write temporary files to /kaggle/temp/, but they won't be saved outside of the current session"
   ]
  },
  {
   "cell_type": "code",
   "execution_count": 2,
   "id": "07de8a10",
   "metadata": {
    "execution": {
     "iopub.execute_input": "2025-03-29T15:52:03.314262Z",
     "iopub.status.busy": "2025-03-29T15:52:03.313775Z",
     "iopub.status.idle": "2025-03-29T15:52:03.374651Z",
     "shell.execute_reply": "2025-03-29T15:52:03.373276Z"
    },
    "papermill": {
     "duration": 0.070339,
     "end_time": "2025-03-29T15:52:03.376543",
     "exception": false,
     "start_time": "2025-03-29T15:52:03.306204",
     "status": "completed"
    },
    "tags": []
   },
   "outputs": [
    {
     "data": {
      "text/html": [
       "<div>\n",
       "<style scoped>\n",
       "    .dataframe tbody tr th:only-of-type {\n",
       "        vertical-align: middle;\n",
       "    }\n",
       "\n",
       "    .dataframe tbody tr th {\n",
       "        vertical-align: top;\n",
       "    }\n",
       "\n",
       "    .dataframe thead th {\n",
       "        text-align: right;\n",
       "    }\n",
       "</style>\n",
       "<table border=\"1\" class=\"dataframe\">\n",
       "  <thead>\n",
       "    <tr style=\"text-align: right;\">\n",
       "      <th></th>\n",
       "      <th>Gender</th>\n",
       "      <th>Age</th>\n",
       "      <th>Height</th>\n",
       "      <th>Weight</th>\n",
       "      <th>family_history_with_overweight</th>\n",
       "      <th>FAVC</th>\n",
       "      <th>FCVC</th>\n",
       "      <th>NCP</th>\n",
       "      <th>CAEC</th>\n",
       "      <th>SMOKE</th>\n",
       "      <th>CH2O</th>\n",
       "      <th>SCC</th>\n",
       "      <th>FAF</th>\n",
       "      <th>TUE</th>\n",
       "      <th>CALC</th>\n",
       "      <th>MTRANS</th>\n",
       "      <th>NObeyesdad</th>\n",
       "    </tr>\n",
       "  </thead>\n",
       "  <tbody>\n",
       "    <tr>\n",
       "      <th>0</th>\n",
       "      <td>Female</td>\n",
       "      <td>21</td>\n",
       "      <td>1.62</td>\n",
       "      <td>64.0</td>\n",
       "      <td>yes</td>\n",
       "      <td>no</td>\n",
       "      <td>2.0</td>\n",
       "      <td>3.0</td>\n",
       "      <td>Sometimes</td>\n",
       "      <td>no</td>\n",
       "      <td>2.0</td>\n",
       "      <td>no</td>\n",
       "      <td>0.0</td>\n",
       "      <td>1.0</td>\n",
       "      <td>no</td>\n",
       "      <td>Public_Transportation</td>\n",
       "      <td>Normal_Weight</td>\n",
       "    </tr>\n",
       "    <tr>\n",
       "      <th>1</th>\n",
       "      <td>Female</td>\n",
       "      <td>21</td>\n",
       "      <td>1.52</td>\n",
       "      <td>56.0</td>\n",
       "      <td>yes</td>\n",
       "      <td>no</td>\n",
       "      <td>3.0</td>\n",
       "      <td>3.0</td>\n",
       "      <td>Sometimes</td>\n",
       "      <td>yes</td>\n",
       "      <td>3.0</td>\n",
       "      <td>yes</td>\n",
       "      <td>3.0</td>\n",
       "      <td>0.0</td>\n",
       "      <td>Sometimes</td>\n",
       "      <td>Public_Transportation</td>\n",
       "      <td>Normal_Weight</td>\n",
       "    </tr>\n",
       "    <tr>\n",
       "      <th>2</th>\n",
       "      <td>Male</td>\n",
       "      <td>23</td>\n",
       "      <td>1.80</td>\n",
       "      <td>77.0</td>\n",
       "      <td>yes</td>\n",
       "      <td>no</td>\n",
       "      <td>2.0</td>\n",
       "      <td>3.0</td>\n",
       "      <td>Sometimes</td>\n",
       "      <td>no</td>\n",
       "      <td>2.0</td>\n",
       "      <td>no</td>\n",
       "      <td>2.0</td>\n",
       "      <td>1.0</td>\n",
       "      <td>Frequently</td>\n",
       "      <td>Public_Transportation</td>\n",
       "      <td>Normal_Weight</td>\n",
       "    </tr>\n",
       "    <tr>\n",
       "      <th>3</th>\n",
       "      <td>Male</td>\n",
       "      <td>27</td>\n",
       "      <td>1.80</td>\n",
       "      <td>87.0</td>\n",
       "      <td>no</td>\n",
       "      <td>no</td>\n",
       "      <td>3.0</td>\n",
       "      <td>3.0</td>\n",
       "      <td>Sometimes</td>\n",
       "      <td>no</td>\n",
       "      <td>2.0</td>\n",
       "      <td>no</td>\n",
       "      <td>2.0</td>\n",
       "      <td>0.0</td>\n",
       "      <td>Frequently</td>\n",
       "      <td>Walking</td>\n",
       "      <td>Overweight_Level_I</td>\n",
       "    </tr>\n",
       "    <tr>\n",
       "      <th>4</th>\n",
       "      <td>Male</td>\n",
       "      <td>22</td>\n",
       "      <td>1.78</td>\n",
       "      <td>89.8</td>\n",
       "      <td>no</td>\n",
       "      <td>no</td>\n",
       "      <td>2.0</td>\n",
       "      <td>1.0</td>\n",
       "      <td>Sometimes</td>\n",
       "      <td>no</td>\n",
       "      <td>2.0</td>\n",
       "      <td>no</td>\n",
       "      <td>0.0</td>\n",
       "      <td>0.0</td>\n",
       "      <td>Sometimes</td>\n",
       "      <td>Public_Transportation</td>\n",
       "      <td>Overweight_Level_II</td>\n",
       "    </tr>\n",
       "  </tbody>\n",
       "</table>\n",
       "</div>"
      ],
      "text/plain": [
       "   Gender  Age  Height  Weight family_history_with_overweight FAVC  FCVC  NCP  \\\n",
       "0  Female   21    1.62    64.0                            yes   no   2.0  3.0   \n",
       "1  Female   21    1.52    56.0                            yes   no   3.0  3.0   \n",
       "2    Male   23    1.80    77.0                            yes   no   2.0  3.0   \n",
       "3    Male   27    1.80    87.0                             no   no   3.0  3.0   \n",
       "4    Male   22    1.78    89.8                             no   no   2.0  1.0   \n",
       "\n",
       "        CAEC SMOKE  CH2O  SCC  FAF  TUE        CALC                 MTRANS  \\\n",
       "0  Sometimes    no   2.0   no  0.0  1.0          no  Public_Transportation   \n",
       "1  Sometimes   yes   3.0  yes  3.0  0.0   Sometimes  Public_Transportation   \n",
       "2  Sometimes    no   2.0   no  2.0  1.0  Frequently  Public_Transportation   \n",
       "3  Sometimes    no   2.0   no  2.0  0.0  Frequently                Walking   \n",
       "4  Sometimes    no   2.0   no  0.0  0.0   Sometimes  Public_Transportation   \n",
       "\n",
       "            NObeyesdad  \n",
       "0        Normal_Weight  \n",
       "1        Normal_Weight  \n",
       "2        Normal_Weight  \n",
       "3   Overweight_Level_I  \n",
       "4  Overweight_Level_II  "
      ]
     },
     "execution_count": 2,
     "metadata": {},
     "output_type": "execute_result"
    }
   ],
   "source": [
    "df = pd.read_csv('/kaggle/input/obesity-prediction-dataset/ObesityDataSet_raw_and_data_sinthetic.csv')\n",
    "df.head()"
   ]
  },
  {
   "cell_type": "code",
   "execution_count": 3,
   "id": "fd8ce783",
   "metadata": {
    "execution": {
     "iopub.execute_input": "2025-03-29T15:52:03.391601Z",
     "iopub.status.busy": "2025-03-29T15:52:03.391175Z",
     "iopub.status.idle": "2025-03-29T15:52:03.424904Z",
     "shell.execute_reply": "2025-03-29T15:52:03.423785Z"
    },
    "papermill": {
     "duration": 0.043043,
     "end_time": "2025-03-29T15:52:03.426555",
     "exception": false,
     "start_time": "2025-03-29T15:52:03.383512",
     "status": "completed"
    },
    "tags": []
   },
   "outputs": [
    {
     "data": {
      "text/html": [
       "<div>\n",
       "<style scoped>\n",
       "    .dataframe tbody tr th:only-of-type {\n",
       "        vertical-align: middle;\n",
       "    }\n",
       "\n",
       "    .dataframe tbody tr th {\n",
       "        vertical-align: top;\n",
       "    }\n",
       "\n",
       "    .dataframe thead th {\n",
       "        text-align: right;\n",
       "    }\n",
       "</style>\n",
       "<table border=\"1\" class=\"dataframe\">\n",
       "  <thead>\n",
       "    <tr style=\"text-align: right;\">\n",
       "      <th></th>\n",
       "      <th>Age</th>\n",
       "      <th>Height</th>\n",
       "      <th>Weight</th>\n",
       "      <th>FCVC</th>\n",
       "      <th>NCP</th>\n",
       "      <th>CH2O</th>\n",
       "      <th>FAF</th>\n",
       "      <th>TUE</th>\n",
       "    </tr>\n",
       "  </thead>\n",
       "  <tbody>\n",
       "    <tr>\n",
       "      <th>count</th>\n",
       "      <td>2111.000000</td>\n",
       "      <td>2111.000000</td>\n",
       "      <td>2111.000000</td>\n",
       "      <td>2111.000000</td>\n",
       "      <td>2111.000000</td>\n",
       "      <td>2111.000000</td>\n",
       "      <td>2111.000000</td>\n",
       "      <td>2111.000000</td>\n",
       "    </tr>\n",
       "    <tr>\n",
       "      <th>mean</th>\n",
       "      <td>24.315964</td>\n",
       "      <td>1.701620</td>\n",
       "      <td>86.586035</td>\n",
       "      <td>2.418986</td>\n",
       "      <td>2.685651</td>\n",
       "      <td>2.008053</td>\n",
       "      <td>1.010313</td>\n",
       "      <td>0.657861</td>\n",
       "    </tr>\n",
       "    <tr>\n",
       "      <th>std</th>\n",
       "      <td>6.357078</td>\n",
       "      <td>0.093368</td>\n",
       "      <td>26.191163</td>\n",
       "      <td>0.533996</td>\n",
       "      <td>0.778079</td>\n",
       "      <td>0.612950</td>\n",
       "      <td>0.850613</td>\n",
       "      <td>0.608926</td>\n",
       "    </tr>\n",
       "    <tr>\n",
       "      <th>min</th>\n",
       "      <td>14.000000</td>\n",
       "      <td>1.450000</td>\n",
       "      <td>39.000000</td>\n",
       "      <td>1.000000</td>\n",
       "      <td>1.000000</td>\n",
       "      <td>1.000000</td>\n",
       "      <td>0.000000</td>\n",
       "      <td>0.000000</td>\n",
       "    </tr>\n",
       "    <tr>\n",
       "      <th>25%</th>\n",
       "      <td>20.000000</td>\n",
       "      <td>1.630000</td>\n",
       "      <td>65.470000</td>\n",
       "      <td>2.000000</td>\n",
       "      <td>2.660000</td>\n",
       "      <td>1.585000</td>\n",
       "      <td>0.125000</td>\n",
       "      <td>0.000000</td>\n",
       "    </tr>\n",
       "    <tr>\n",
       "      <th>50%</th>\n",
       "      <td>23.000000</td>\n",
       "      <td>1.700000</td>\n",
       "      <td>83.000000</td>\n",
       "      <td>2.390000</td>\n",
       "      <td>3.000000</td>\n",
       "      <td>2.000000</td>\n",
       "      <td>1.000000</td>\n",
       "      <td>0.625000</td>\n",
       "    </tr>\n",
       "    <tr>\n",
       "      <th>75%</th>\n",
       "      <td>26.000000</td>\n",
       "      <td>1.770000</td>\n",
       "      <td>107.430000</td>\n",
       "      <td>3.000000</td>\n",
       "      <td>3.000000</td>\n",
       "      <td>2.480000</td>\n",
       "      <td>1.670000</td>\n",
       "      <td>1.000000</td>\n",
       "    </tr>\n",
       "    <tr>\n",
       "      <th>max</th>\n",
       "      <td>61.000000</td>\n",
       "      <td>1.980000</td>\n",
       "      <td>173.000000</td>\n",
       "      <td>3.000000</td>\n",
       "      <td>4.000000</td>\n",
       "      <td>3.000000</td>\n",
       "      <td>3.000000</td>\n",
       "      <td>2.000000</td>\n",
       "    </tr>\n",
       "  </tbody>\n",
       "</table>\n",
       "</div>"
      ],
      "text/plain": [
       "               Age       Height       Weight         FCVC          NCP  \\\n",
       "count  2111.000000  2111.000000  2111.000000  2111.000000  2111.000000   \n",
       "mean     24.315964     1.701620    86.586035     2.418986     2.685651   \n",
       "std       6.357078     0.093368    26.191163     0.533996     0.778079   \n",
       "min      14.000000     1.450000    39.000000     1.000000     1.000000   \n",
       "25%      20.000000     1.630000    65.470000     2.000000     2.660000   \n",
       "50%      23.000000     1.700000    83.000000     2.390000     3.000000   \n",
       "75%      26.000000     1.770000   107.430000     3.000000     3.000000   \n",
       "max      61.000000     1.980000   173.000000     3.000000     4.000000   \n",
       "\n",
       "              CH2O          FAF          TUE  \n",
       "count  2111.000000  2111.000000  2111.000000  \n",
       "mean      2.008053     1.010313     0.657861  \n",
       "std       0.612950     0.850613     0.608926  \n",
       "min       1.000000     0.000000     0.000000  \n",
       "25%       1.585000     0.125000     0.000000  \n",
       "50%       2.000000     1.000000     0.625000  \n",
       "75%       2.480000     1.670000     1.000000  \n",
       "max       3.000000     3.000000     2.000000  "
      ]
     },
     "execution_count": 3,
     "metadata": {},
     "output_type": "execute_result"
    }
   ],
   "source": [
    "df.describe()"
   ]
  },
  {
   "cell_type": "code",
   "execution_count": 4,
   "id": "ebb00ba8",
   "metadata": {
    "execution": {
     "iopub.execute_input": "2025-03-29T15:52:03.442374Z",
     "iopub.status.busy": "2025-03-29T15:52:03.442003Z",
     "iopub.status.idle": "2025-03-29T15:52:03.470578Z",
     "shell.execute_reply": "2025-03-29T15:52:03.469609Z"
    },
    "papermill": {
     "duration": 0.038234,
     "end_time": "2025-03-29T15:52:03.472279",
     "exception": false,
     "start_time": "2025-03-29T15:52:03.434045",
     "status": "completed"
    },
    "tags": []
   },
   "outputs": [
    {
     "data": {
      "text/html": [
       "<div>\n",
       "<style scoped>\n",
       "    .dataframe tbody tr th:only-of-type {\n",
       "        vertical-align: middle;\n",
       "    }\n",
       "\n",
       "    .dataframe tbody tr th {\n",
       "        vertical-align: top;\n",
       "    }\n",
       "\n",
       "    .dataframe thead th {\n",
       "        text-align: right;\n",
       "    }\n",
       "</style>\n",
       "<table border=\"1\" class=\"dataframe\">\n",
       "  <thead>\n",
       "    <tr style=\"text-align: right;\">\n",
       "      <th></th>\n",
       "      <th>Gender</th>\n",
       "      <th>family_history_with_overweight</th>\n",
       "      <th>FAVC</th>\n",
       "      <th>CAEC</th>\n",
       "      <th>SMOKE</th>\n",
       "      <th>SCC</th>\n",
       "      <th>CALC</th>\n",
       "      <th>MTRANS</th>\n",
       "      <th>NObeyesdad</th>\n",
       "    </tr>\n",
       "  </thead>\n",
       "  <tbody>\n",
       "    <tr>\n",
       "      <th>count</th>\n",
       "      <td>2111</td>\n",
       "      <td>2111</td>\n",
       "      <td>2111</td>\n",
       "      <td>2111</td>\n",
       "      <td>2111</td>\n",
       "      <td>2111</td>\n",
       "      <td>2111</td>\n",
       "      <td>2111</td>\n",
       "      <td>2111</td>\n",
       "    </tr>\n",
       "    <tr>\n",
       "      <th>unique</th>\n",
       "      <td>2</td>\n",
       "      <td>2</td>\n",
       "      <td>2</td>\n",
       "      <td>4</td>\n",
       "      <td>2</td>\n",
       "      <td>2</td>\n",
       "      <td>4</td>\n",
       "      <td>5</td>\n",
       "      <td>7</td>\n",
       "    </tr>\n",
       "    <tr>\n",
       "      <th>top</th>\n",
       "      <td>Male</td>\n",
       "      <td>yes</td>\n",
       "      <td>yes</td>\n",
       "      <td>Sometimes</td>\n",
       "      <td>no</td>\n",
       "      <td>no</td>\n",
       "      <td>Sometimes</td>\n",
       "      <td>Public_Transportation</td>\n",
       "      <td>Obesity_Type_I</td>\n",
       "    </tr>\n",
       "    <tr>\n",
       "      <th>freq</th>\n",
       "      <td>1068</td>\n",
       "      <td>1726</td>\n",
       "      <td>1866</td>\n",
       "      <td>1765</td>\n",
       "      <td>2067</td>\n",
       "      <td>2015</td>\n",
       "      <td>1401</td>\n",
       "      <td>1580</td>\n",
       "      <td>351</td>\n",
       "    </tr>\n",
       "  </tbody>\n",
       "</table>\n",
       "</div>"
      ],
      "text/plain": [
       "       Gender family_history_with_overweight  FAVC       CAEC SMOKE   SCC  \\\n",
       "count    2111                           2111  2111       2111  2111  2111   \n",
       "unique      2                              2     2          4     2     2   \n",
       "top      Male                            yes   yes  Sometimes    no    no   \n",
       "freq     1068                           1726  1866       1765  2067  2015   \n",
       "\n",
       "             CALC                 MTRANS      NObeyesdad  \n",
       "count        2111                   2111            2111  \n",
       "unique          4                      5               7  \n",
       "top     Sometimes  Public_Transportation  Obesity_Type_I  \n",
       "freq         1401                   1580             351  "
      ]
     },
     "execution_count": 4,
     "metadata": {},
     "output_type": "execute_result"
    }
   ],
   "source": [
    "df.describe(include=['O'])"
   ]
  },
  {
   "cell_type": "code",
   "execution_count": 5,
   "id": "288fbba0",
   "metadata": {
    "execution": {
     "iopub.execute_input": "2025-03-29T15:52:03.487681Z",
     "iopub.status.busy": "2025-03-29T15:52:03.487207Z",
     "iopub.status.idle": "2025-03-29T15:52:03.513295Z",
     "shell.execute_reply": "2025-03-29T15:52:03.512086Z"
    },
    "papermill": {
     "duration": 0.035484,
     "end_time": "2025-03-29T15:52:03.514979",
     "exception": false,
     "start_time": "2025-03-29T15:52:03.479495",
     "status": "completed"
    },
    "tags": []
   },
   "outputs": [
    {
     "name": "stdout",
     "output_type": "stream",
     "text": [
      "<class 'pandas.core.frame.DataFrame'>\n",
      "RangeIndex: 2111 entries, 0 to 2110\n",
      "Data columns (total 17 columns):\n",
      " #   Column                          Non-Null Count  Dtype  \n",
      "---  ------                          --------------  -----  \n",
      " 0   Gender                          2111 non-null   object \n",
      " 1   Age                             2111 non-null   int64  \n",
      " 2   Height                          2111 non-null   float64\n",
      " 3   Weight                          2111 non-null   float64\n",
      " 4   family_history_with_overweight  2111 non-null   object \n",
      " 5   FAVC                            2111 non-null   object \n",
      " 6   FCVC                            2111 non-null   float64\n",
      " 7   NCP                             2111 non-null   float64\n",
      " 8   CAEC                            2111 non-null   object \n",
      " 9   SMOKE                           2111 non-null   object \n",
      " 10  CH2O                            2111 non-null   float64\n",
      " 11  SCC                             2111 non-null   object \n",
      " 12  FAF                             2111 non-null   float64\n",
      " 13  TUE                             2111 non-null   float64\n",
      " 14  CALC                            2111 non-null   object \n",
      " 15  MTRANS                          2111 non-null   object \n",
      " 16  NObeyesdad                      2111 non-null   object \n",
      "dtypes: float64(7), int64(1), object(9)\n",
      "memory usage: 280.5+ KB\n"
     ]
    }
   ],
   "source": [
    "df.info()"
   ]
  },
  {
   "cell_type": "code",
   "execution_count": 6,
   "id": "f928af62",
   "metadata": {
    "execution": {
     "iopub.execute_input": "2025-03-29T15:52:03.530777Z",
     "iopub.status.busy": "2025-03-29T15:52:03.530369Z",
     "iopub.status.idle": "2025-03-29T15:52:03.539906Z",
     "shell.execute_reply": "2025-03-29T15:52:03.538758Z"
    },
    "papermill": {
     "duration": 0.019405,
     "end_time": "2025-03-29T15:52:03.541729",
     "exception": false,
     "start_time": "2025-03-29T15:52:03.522324",
     "status": "completed"
    },
    "tags": []
   },
   "outputs": [
    {
     "data": {
      "text/plain": [
       "Gender                            0\n",
       "Age                               0\n",
       "Height                            0\n",
       "Weight                            0\n",
       "family_history_with_overweight    0\n",
       "FAVC                              0\n",
       "FCVC                              0\n",
       "NCP                               0\n",
       "CAEC                              0\n",
       "SMOKE                             0\n",
       "CH2O                              0\n",
       "SCC                               0\n",
       "FAF                               0\n",
       "TUE                               0\n",
       "CALC                              0\n",
       "MTRANS                            0\n",
       "NObeyesdad                        0\n",
       "dtype: int64"
      ]
     },
     "execution_count": 6,
     "metadata": {},
     "output_type": "execute_result"
    }
   ],
   "source": [
    "df.isnull().sum()"
   ]
  },
  {
   "cell_type": "code",
   "execution_count": 7,
   "id": "a6f5c176",
   "metadata": {
    "execution": {
     "iopub.execute_input": "2025-03-29T15:52:03.557722Z",
     "iopub.status.busy": "2025-03-29T15:52:03.557303Z",
     "iopub.status.idle": "2025-03-29T15:52:03.569639Z",
     "shell.execute_reply": "2025-03-29T15:52:03.568139Z"
    },
    "papermill": {
     "duration": 0.022848,
     "end_time": "2025-03-29T15:52:03.571968",
     "exception": false,
     "start_time": "2025-03-29T15:52:03.549120",
     "status": "completed"
    },
    "tags": []
   },
   "outputs": [
    {
     "name": "stdout",
     "output_type": "stream",
     "text": [
      "column name : Gender\n",
      "column values : ['Female' 'Male']\n",
      "\n",
      "column name : family_history_with_overweight\n",
      "column values : ['yes' 'no']\n",
      "\n",
      "column name : FAVC\n",
      "column values : ['no' 'yes']\n",
      "\n",
      "column name : CAEC\n",
      "column values : ['Sometimes' 'Frequently' 'Always' 'no']\n",
      "\n",
      "column name : SMOKE\n",
      "column values : ['no' 'yes']\n",
      "\n",
      "column name : SCC\n",
      "column values : ['no' 'yes']\n",
      "\n",
      "column name : CALC\n",
      "column values : ['no' 'Sometimes' 'Frequently' 'Always']\n",
      "\n",
      "column name : MTRANS\n",
      "column values : ['Public_Transportation' 'Walking' 'Automobile' 'Motorbike' 'Bike']\n",
      "\n",
      "column name : NObeyesdad\n",
      "column values : ['Normal_Weight' 'Overweight_Level_I' 'Overweight_Level_II'\n",
      " 'Obesity_Type_I' 'Insufficient_Weight' 'Obesity_Type_II'\n",
      " 'Obesity_Type_III']\n",
      "\n"
     ]
    }
   ],
   "source": [
    "for column in df.select_dtypes(include=['O']).columns:\n",
    "    print(f'column name : {column}\\ncolumn values : {df[column].unique()}\\n')"
   ]
  },
  {
   "cell_type": "code",
   "execution_count": 8,
   "id": "289d916d",
   "metadata": {
    "execution": {
     "iopub.execute_input": "2025-03-29T15:52:03.588499Z",
     "iopub.status.busy": "2025-03-29T15:52:03.588020Z",
     "iopub.status.idle": "2025-03-29T15:52:03.602050Z",
     "shell.execute_reply": "2025-03-29T15:52:03.600886Z"
    },
    "papermill": {
     "duration": 0.024308,
     "end_time": "2025-03-29T15:52:03.604080",
     "exception": false,
     "start_time": "2025-03-29T15:52:03.579772",
     "status": "completed"
    },
    "tags": []
   },
   "outputs": [
    {
     "name": "stdout",
     "output_type": "stream",
     "text": [
      "24\n"
     ]
    }
   ],
   "source": [
    "duplicated = df[df.duplicated(keep='first')]\n",
    "print(len(duplicated))"
   ]
  },
  {
   "cell_type": "code",
   "execution_count": 9,
   "id": "0444397d",
   "metadata": {
    "execution": {
     "iopub.execute_input": "2025-03-29T15:52:03.620621Z",
     "iopub.status.busy": "2025-03-29T15:52:03.620206Z",
     "iopub.status.idle": "2025-03-29T15:52:03.639762Z",
     "shell.execute_reply": "2025-03-29T15:52:03.638467Z"
    },
    "papermill": {
     "duration": 0.030293,
     "end_time": "2025-03-29T15:52:03.642156",
     "exception": false,
     "start_time": "2025-03-29T15:52:03.611863",
     "status": "completed"
    },
    "tags": []
   },
   "outputs": [
    {
     "data": {
      "text/html": [
       "<div>\n",
       "<style scoped>\n",
       "    .dataframe tbody tr th:only-of-type {\n",
       "        vertical-align: middle;\n",
       "    }\n",
       "\n",
       "    .dataframe tbody tr th {\n",
       "        vertical-align: top;\n",
       "    }\n",
       "\n",
       "    .dataframe thead th {\n",
       "        text-align: right;\n",
       "    }\n",
       "</style>\n",
       "<table border=\"1\" class=\"dataframe\">\n",
       "  <thead>\n",
       "    <tr style=\"text-align: right;\">\n",
       "      <th></th>\n",
       "      <th>Gender</th>\n",
       "      <th>Age</th>\n",
       "      <th>Height</th>\n",
       "      <th>Weight</th>\n",
       "      <th>family_history_with_overweight</th>\n",
       "      <th>FAVC</th>\n",
       "      <th>FCVC</th>\n",
       "      <th>NCP</th>\n",
       "      <th>CAEC</th>\n",
       "      <th>SMOKE</th>\n",
       "      <th>CH2O</th>\n",
       "      <th>SCC</th>\n",
       "      <th>FAF</th>\n",
       "      <th>TUE</th>\n",
       "      <th>CALC</th>\n",
       "      <th>MTRANS</th>\n",
       "      <th>NObeyesdad</th>\n",
       "    </tr>\n",
       "  </thead>\n",
       "  <tbody>\n",
       "  </tbody>\n",
       "</table>\n",
       "</div>"
      ],
      "text/plain": [
       "Empty DataFrame\n",
       "Columns: [Gender, Age, Height, Weight, family_history_with_overweight, FAVC, FCVC, NCP, CAEC, SMOKE, CH2O, SCC, FAF, TUE, CALC, MTRANS, NObeyesdad]\n",
       "Index: []"
      ]
     },
     "execution_count": 9,
     "metadata": {},
     "output_type": "execute_result"
    }
   ],
   "source": [
    "df = df.drop_duplicates()\n",
    "df[df.duplicated(keep='first')]"
   ]
  },
  {
   "cell_type": "code",
   "execution_count": 10,
   "id": "c99e4c67",
   "metadata": {
    "execution": {
     "iopub.execute_input": "2025-03-29T15:52:03.658899Z",
     "iopub.status.busy": "2025-03-29T15:52:03.658447Z",
     "iopub.status.idle": "2025-03-29T15:52:03.675374Z",
     "shell.execute_reply": "2025-03-29T15:52:03.674194Z"
    },
    "papermill": {
     "duration": 0.027253,
     "end_time": "2025-03-29T15:52:03.677319",
     "exception": false,
     "start_time": "2025-03-29T15:52:03.650066",
     "status": "completed"
    },
    "tags": []
   },
   "outputs": [
    {
     "data": {
      "text/html": [
       "<div>\n",
       "<style scoped>\n",
       "    .dataframe tbody tr th:only-of-type {\n",
       "        vertical-align: middle;\n",
       "    }\n",
       "\n",
       "    .dataframe tbody tr th {\n",
       "        vertical-align: top;\n",
       "    }\n",
       "\n",
       "    .dataframe thead th {\n",
       "        text-align: right;\n",
       "    }\n",
       "</style>\n",
       "<table border=\"1\" class=\"dataframe\">\n",
       "  <thead>\n",
       "    <tr style=\"text-align: right;\">\n",
       "      <th></th>\n",
       "      <th>target</th>\n",
       "      <th>NObeyesdad</th>\n",
       "    </tr>\n",
       "  </thead>\n",
       "  <tbody>\n",
       "    <tr>\n",
       "      <th>0</th>\n",
       "      <td>1</td>\n",
       "      <td>Normal_Weight</td>\n",
       "    </tr>\n",
       "    <tr>\n",
       "      <th>1</th>\n",
       "      <td>1</td>\n",
       "      <td>Normal_Weight</td>\n",
       "    </tr>\n",
       "    <tr>\n",
       "      <th>2</th>\n",
       "      <td>1</td>\n",
       "      <td>Normal_Weight</td>\n",
       "    </tr>\n",
       "    <tr>\n",
       "      <th>3</th>\n",
       "      <td>2</td>\n",
       "      <td>Overweight_Level_I</td>\n",
       "    </tr>\n",
       "    <tr>\n",
       "      <th>4</th>\n",
       "      <td>3</td>\n",
       "      <td>Overweight_Level_II</td>\n",
       "    </tr>\n",
       "    <tr>\n",
       "      <th>...</th>\n",
       "      <td>...</td>\n",
       "      <td>...</td>\n",
       "    </tr>\n",
       "    <tr>\n",
       "      <th>2106</th>\n",
       "      <td>6</td>\n",
       "      <td>Obesity_Type_III</td>\n",
       "    </tr>\n",
       "    <tr>\n",
       "      <th>2107</th>\n",
       "      <td>6</td>\n",
       "      <td>Obesity_Type_III</td>\n",
       "    </tr>\n",
       "    <tr>\n",
       "      <th>2108</th>\n",
       "      <td>6</td>\n",
       "      <td>Obesity_Type_III</td>\n",
       "    </tr>\n",
       "    <tr>\n",
       "      <th>2109</th>\n",
       "      <td>6</td>\n",
       "      <td>Obesity_Type_III</td>\n",
       "    </tr>\n",
       "    <tr>\n",
       "      <th>2110</th>\n",
       "      <td>6</td>\n",
       "      <td>Obesity_Type_III</td>\n",
       "    </tr>\n",
       "  </tbody>\n",
       "</table>\n",
       "<p>2087 rows × 2 columns</p>\n",
       "</div>"
      ],
      "text/plain": [
       "      target           NObeyesdad\n",
       "0          1        Normal_Weight\n",
       "1          1        Normal_Weight\n",
       "2          1        Normal_Weight\n",
       "3          2   Overweight_Level_I\n",
       "4          3  Overweight_Level_II\n",
       "...      ...                  ...\n",
       "2106       6     Obesity_Type_III\n",
       "2107       6     Obesity_Type_III\n",
       "2108       6     Obesity_Type_III\n",
       "2109       6     Obesity_Type_III\n",
       "2110       6     Obesity_Type_III\n",
       "\n",
       "[2087 rows x 2 columns]"
      ]
     },
     "execution_count": 10,
     "metadata": {},
     "output_type": "execute_result"
    }
   ],
   "source": [
    "new_target = {'Normal_Weight' : 1, 'Overweight_Level_I' : 2, 'Overweight_Level_II' : 3, 'Obesity_Type_I' : 4, 'Insufficient_Weight' : 0, 'Obesity_Type_II' : 5, 'Obesity_Type_III' : 6}\n",
    "\n",
    "df['target'] = df['NObeyesdad'].map(new_target)\n",
    "df[['target','NObeyesdad']]"
   ]
  },
  {
   "cell_type": "code",
   "execution_count": 11,
   "id": "52c9e90a",
   "metadata": {
    "execution": {
     "iopub.execute_input": "2025-03-29T15:52:03.694550Z",
     "iopub.status.busy": "2025-03-29T15:52:03.694090Z",
     "iopub.status.idle": "2025-03-29T15:52:03.717838Z",
     "shell.execute_reply": "2025-03-29T15:52:03.716737Z"
    },
    "papermill": {
     "duration": 0.034491,
     "end_time": "2025-03-29T15:52:03.719775",
     "exception": false,
     "start_time": "2025-03-29T15:52:03.685284",
     "status": "completed"
    },
    "tags": []
   },
   "outputs": [
    {
     "data": {
      "text/html": [
       "<div>\n",
       "<style scoped>\n",
       "    .dataframe tbody tr th:only-of-type {\n",
       "        vertical-align: middle;\n",
       "    }\n",
       "\n",
       "    .dataframe tbody tr th {\n",
       "        vertical-align: top;\n",
       "    }\n",
       "\n",
       "    .dataframe thead th {\n",
       "        text-align: right;\n",
       "    }\n",
       "</style>\n",
       "<table border=\"1\" class=\"dataframe\">\n",
       "  <thead>\n",
       "    <tr style=\"text-align: right;\">\n",
       "      <th></th>\n",
       "      <th>Gender</th>\n",
       "      <th>Age</th>\n",
       "      <th>Height</th>\n",
       "      <th>Weight</th>\n",
       "      <th>family_history_with_overweight</th>\n",
       "      <th>FAVC</th>\n",
       "      <th>FCVC</th>\n",
       "      <th>NCP</th>\n",
       "      <th>CAEC</th>\n",
       "      <th>SMOKE</th>\n",
       "      <th>CH2O</th>\n",
       "      <th>SCC</th>\n",
       "      <th>FAF</th>\n",
       "      <th>TUE</th>\n",
       "      <th>CALC</th>\n",
       "      <th>MTRANS</th>\n",
       "      <th>target</th>\n",
       "    </tr>\n",
       "  </thead>\n",
       "  <tbody>\n",
       "    <tr>\n",
       "      <th>0</th>\n",
       "      <td>Female</td>\n",
       "      <td>21</td>\n",
       "      <td>1.62</td>\n",
       "      <td>64.00</td>\n",
       "      <td>yes</td>\n",
       "      <td>no</td>\n",
       "      <td>2.0</td>\n",
       "      <td>3.0</td>\n",
       "      <td>Sometimes</td>\n",
       "      <td>no</td>\n",
       "      <td>2.00</td>\n",
       "      <td>no</td>\n",
       "      <td>0.00</td>\n",
       "      <td>1.000</td>\n",
       "      <td>no</td>\n",
       "      <td>Public_Transportation</td>\n",
       "      <td>1</td>\n",
       "    </tr>\n",
       "    <tr>\n",
       "      <th>1</th>\n",
       "      <td>Female</td>\n",
       "      <td>21</td>\n",
       "      <td>1.52</td>\n",
       "      <td>56.00</td>\n",
       "      <td>yes</td>\n",
       "      <td>no</td>\n",
       "      <td>3.0</td>\n",
       "      <td>3.0</td>\n",
       "      <td>Sometimes</td>\n",
       "      <td>yes</td>\n",
       "      <td>3.00</td>\n",
       "      <td>yes</td>\n",
       "      <td>3.00</td>\n",
       "      <td>0.000</td>\n",
       "      <td>Sometimes</td>\n",
       "      <td>Public_Transportation</td>\n",
       "      <td>1</td>\n",
       "    </tr>\n",
       "    <tr>\n",
       "      <th>2</th>\n",
       "      <td>Male</td>\n",
       "      <td>23</td>\n",
       "      <td>1.80</td>\n",
       "      <td>77.00</td>\n",
       "      <td>yes</td>\n",
       "      <td>no</td>\n",
       "      <td>2.0</td>\n",
       "      <td>3.0</td>\n",
       "      <td>Sometimes</td>\n",
       "      <td>no</td>\n",
       "      <td>2.00</td>\n",
       "      <td>no</td>\n",
       "      <td>2.00</td>\n",
       "      <td>1.000</td>\n",
       "      <td>Frequently</td>\n",
       "      <td>Public_Transportation</td>\n",
       "      <td>1</td>\n",
       "    </tr>\n",
       "    <tr>\n",
       "      <th>3</th>\n",
       "      <td>Male</td>\n",
       "      <td>27</td>\n",
       "      <td>1.80</td>\n",
       "      <td>87.00</td>\n",
       "      <td>no</td>\n",
       "      <td>no</td>\n",
       "      <td>3.0</td>\n",
       "      <td>3.0</td>\n",
       "      <td>Sometimes</td>\n",
       "      <td>no</td>\n",
       "      <td>2.00</td>\n",
       "      <td>no</td>\n",
       "      <td>2.00</td>\n",
       "      <td>0.000</td>\n",
       "      <td>Frequently</td>\n",
       "      <td>Walking</td>\n",
       "      <td>2</td>\n",
       "    </tr>\n",
       "    <tr>\n",
       "      <th>4</th>\n",
       "      <td>Male</td>\n",
       "      <td>22</td>\n",
       "      <td>1.78</td>\n",
       "      <td>89.80</td>\n",
       "      <td>no</td>\n",
       "      <td>no</td>\n",
       "      <td>2.0</td>\n",
       "      <td>1.0</td>\n",
       "      <td>Sometimes</td>\n",
       "      <td>no</td>\n",
       "      <td>2.00</td>\n",
       "      <td>no</td>\n",
       "      <td>0.00</td>\n",
       "      <td>0.000</td>\n",
       "      <td>Sometimes</td>\n",
       "      <td>Public_Transportation</td>\n",
       "      <td>3</td>\n",
       "    </tr>\n",
       "    <tr>\n",
       "      <th>...</th>\n",
       "      <td>...</td>\n",
       "      <td>...</td>\n",
       "      <td>...</td>\n",
       "      <td>...</td>\n",
       "      <td>...</td>\n",
       "      <td>...</td>\n",
       "      <td>...</td>\n",
       "      <td>...</td>\n",
       "      <td>...</td>\n",
       "      <td>...</td>\n",
       "      <td>...</td>\n",
       "      <td>...</td>\n",
       "      <td>...</td>\n",
       "      <td>...</td>\n",
       "      <td>...</td>\n",
       "      <td>...</td>\n",
       "      <td>...</td>\n",
       "    </tr>\n",
       "    <tr>\n",
       "      <th>2106</th>\n",
       "      <td>Female</td>\n",
       "      <td>21</td>\n",
       "      <td>1.71</td>\n",
       "      <td>131.41</td>\n",
       "      <td>yes</td>\n",
       "      <td>yes</td>\n",
       "      <td>3.0</td>\n",
       "      <td>3.0</td>\n",
       "      <td>Sometimes</td>\n",
       "      <td>no</td>\n",
       "      <td>1.73</td>\n",
       "      <td>no</td>\n",
       "      <td>1.68</td>\n",
       "      <td>0.906</td>\n",
       "      <td>Sometimes</td>\n",
       "      <td>Public_Transportation</td>\n",
       "      <td>6</td>\n",
       "    </tr>\n",
       "    <tr>\n",
       "      <th>2107</th>\n",
       "      <td>Female</td>\n",
       "      <td>22</td>\n",
       "      <td>1.75</td>\n",
       "      <td>133.74</td>\n",
       "      <td>yes</td>\n",
       "      <td>yes</td>\n",
       "      <td>3.0</td>\n",
       "      <td>3.0</td>\n",
       "      <td>Sometimes</td>\n",
       "      <td>no</td>\n",
       "      <td>2.01</td>\n",
       "      <td>no</td>\n",
       "      <td>1.34</td>\n",
       "      <td>0.599</td>\n",
       "      <td>Sometimes</td>\n",
       "      <td>Public_Transportation</td>\n",
       "      <td>6</td>\n",
       "    </tr>\n",
       "    <tr>\n",
       "      <th>2108</th>\n",
       "      <td>Female</td>\n",
       "      <td>23</td>\n",
       "      <td>1.75</td>\n",
       "      <td>133.69</td>\n",
       "      <td>yes</td>\n",
       "      <td>yes</td>\n",
       "      <td>3.0</td>\n",
       "      <td>3.0</td>\n",
       "      <td>Sometimes</td>\n",
       "      <td>no</td>\n",
       "      <td>2.05</td>\n",
       "      <td>no</td>\n",
       "      <td>1.41</td>\n",
       "      <td>0.646</td>\n",
       "      <td>Sometimes</td>\n",
       "      <td>Public_Transportation</td>\n",
       "      <td>6</td>\n",
       "    </tr>\n",
       "    <tr>\n",
       "      <th>2109</th>\n",
       "      <td>Female</td>\n",
       "      <td>24</td>\n",
       "      <td>1.74</td>\n",
       "      <td>133.35</td>\n",
       "      <td>yes</td>\n",
       "      <td>yes</td>\n",
       "      <td>3.0</td>\n",
       "      <td>3.0</td>\n",
       "      <td>Sometimes</td>\n",
       "      <td>no</td>\n",
       "      <td>2.85</td>\n",
       "      <td>no</td>\n",
       "      <td>1.14</td>\n",
       "      <td>0.586</td>\n",
       "      <td>Sometimes</td>\n",
       "      <td>Public_Transportation</td>\n",
       "      <td>6</td>\n",
       "    </tr>\n",
       "    <tr>\n",
       "      <th>2110</th>\n",
       "      <td>Female</td>\n",
       "      <td>24</td>\n",
       "      <td>1.74</td>\n",
       "      <td>133.47</td>\n",
       "      <td>yes</td>\n",
       "      <td>yes</td>\n",
       "      <td>3.0</td>\n",
       "      <td>3.0</td>\n",
       "      <td>Sometimes</td>\n",
       "      <td>no</td>\n",
       "      <td>2.86</td>\n",
       "      <td>no</td>\n",
       "      <td>1.03</td>\n",
       "      <td>0.714</td>\n",
       "      <td>Sometimes</td>\n",
       "      <td>Public_Transportation</td>\n",
       "      <td>6</td>\n",
       "    </tr>\n",
       "  </tbody>\n",
       "</table>\n",
       "<p>2087 rows × 17 columns</p>\n",
       "</div>"
      ],
      "text/plain": [
       "      Gender  Age  Height  Weight family_history_with_overweight FAVC  FCVC  \\\n",
       "0     Female   21    1.62   64.00                            yes   no   2.0   \n",
       "1     Female   21    1.52   56.00                            yes   no   3.0   \n",
       "2       Male   23    1.80   77.00                            yes   no   2.0   \n",
       "3       Male   27    1.80   87.00                             no   no   3.0   \n",
       "4       Male   22    1.78   89.80                             no   no   2.0   \n",
       "...      ...  ...     ...     ...                            ...  ...   ...   \n",
       "2106  Female   21    1.71  131.41                            yes  yes   3.0   \n",
       "2107  Female   22    1.75  133.74                            yes  yes   3.0   \n",
       "2108  Female   23    1.75  133.69                            yes  yes   3.0   \n",
       "2109  Female   24    1.74  133.35                            yes  yes   3.0   \n",
       "2110  Female   24    1.74  133.47                            yes  yes   3.0   \n",
       "\n",
       "      NCP       CAEC SMOKE  CH2O  SCC   FAF    TUE        CALC  \\\n",
       "0     3.0  Sometimes    no  2.00   no  0.00  1.000          no   \n",
       "1     3.0  Sometimes   yes  3.00  yes  3.00  0.000   Sometimes   \n",
       "2     3.0  Sometimes    no  2.00   no  2.00  1.000  Frequently   \n",
       "3     3.0  Sometimes    no  2.00   no  2.00  0.000  Frequently   \n",
       "4     1.0  Sometimes    no  2.00   no  0.00  0.000   Sometimes   \n",
       "...   ...        ...   ...   ...  ...   ...    ...         ...   \n",
       "2106  3.0  Sometimes    no  1.73   no  1.68  0.906   Sometimes   \n",
       "2107  3.0  Sometimes    no  2.01   no  1.34  0.599   Sometimes   \n",
       "2108  3.0  Sometimes    no  2.05   no  1.41  0.646   Sometimes   \n",
       "2109  3.0  Sometimes    no  2.85   no  1.14  0.586   Sometimes   \n",
       "2110  3.0  Sometimes    no  2.86   no  1.03  0.714   Sometimes   \n",
       "\n",
       "                     MTRANS  target  \n",
       "0     Public_Transportation       1  \n",
       "1     Public_Transportation       1  \n",
       "2     Public_Transportation       1  \n",
       "3                   Walking       2  \n",
       "4     Public_Transportation       3  \n",
       "...                     ...     ...  \n",
       "2106  Public_Transportation       6  \n",
       "2107  Public_Transportation       6  \n",
       "2108  Public_Transportation       6  \n",
       "2109  Public_Transportation       6  \n",
       "2110  Public_Transportation       6  \n",
       "\n",
       "[2087 rows x 17 columns]"
      ]
     },
     "execution_count": 11,
     "metadata": {},
     "output_type": "execute_result"
    }
   ],
   "source": [
    "df = df.drop('NObeyesdad', axis=1)\n",
    "df"
   ]
  },
  {
   "cell_type": "code",
   "execution_count": 12,
   "id": "3fb30d4c",
   "metadata": {
    "execution": {
     "iopub.execute_input": "2025-03-29T15:52:03.739088Z",
     "iopub.status.busy": "2025-03-29T15:52:03.738720Z",
     "iopub.status.idle": "2025-03-29T15:52:06.238448Z",
     "shell.execute_reply": "2025-03-29T15:52:06.237197Z"
    },
    "papermill": {
     "duration": 2.511962,
     "end_time": "2025-03-29T15:52:06.240208",
     "exception": false,
     "start_time": "2025-03-29T15:52:03.728246",
     "status": "completed"
    },
    "tags": []
   },
   "outputs": [
    {
     "data": {
      "text/plain": [
       "<Axes: >"
      ]
     },
     "execution_count": 12,
     "metadata": {},
     "output_type": "execute_result"
    },
    {
     "data": {
      "image/png": "[encoded data removed]",
      "text/plain": [
       "<Figure size 640x480 with 2 Axes>"
      ]
     },
     "metadata": {},
     "output_type": "display_data"
    }
   ],
   "source": [
    "import seaborn as sns\n",
    "\n",
    "correlation = df.select_dtypes(include=['number']).corr()\n",
    "sns.heatmap(correlation, annot=True, cmap='coolwarm')"
   ]
  },
  {
   "cell_type": "code",
   "execution_count": 13,
   "id": "05ccf2f1",
   "metadata": {
    "execution": {
     "iopub.execute_input": "2025-03-29T15:52:06.262125Z",
     "iopub.status.busy": "2025-03-29T15:52:06.261623Z",
     "iopub.status.idle": "2025-03-29T15:52:06.378782Z",
     "shell.execute_reply": "2025-03-29T15:52:06.377557Z"
    },
    "papermill": {
     "duration": 0.1304,
     "end_time": "2025-03-29T15:52:06.380725",
     "exception": false,
     "start_time": "2025-03-29T15:52:06.250325",
     "status": "completed"
    },
    "tags": []
   },
   "outputs": [
    {
     "data": {
      "image/png": "[encoded data removed]",
      "text/plain": [
       "<Figure size 640x480 with 1 Axes>"
      ]
     },
     "metadata": {},
     "output_type": "display_data"
    }
   ],
   "source": [
    "import matplotlib.pyplot as plt\n",
    "\n",
    "\n",
    "plt.pie(df['family_history_with_overweight'].value_counts(),labels=df['family_history_with_overweight'].value_counts().index, autopct='%1.1f%%', colors=['#51b553', '#e65850'],startangle = 90)\n",
    "plt.title('history of the family with overweight')\n",
    "plt.show()"
   ]
  },
  {
   "cell_type": "code",
   "execution_count": 14,
   "id": "c3177e12",
   "metadata": {
    "execution": {
     "iopub.execute_input": "2025-03-29T15:52:06.403270Z",
     "iopub.status.busy": "2025-03-29T15:52:06.402934Z",
     "iopub.status.idle": "2025-03-29T15:52:06.569855Z",
     "shell.execute_reply": "2025-03-29T15:52:06.568668Z"
    },
    "papermill": {
     "duration": 0.180182,
     "end_time": "2025-03-29T15:52:06.571689",
     "exception": false,
     "start_time": "2025-03-29T15:52:06.391507",
     "status": "completed"
    },
    "tags": []
   },
   "outputs": [
    {
     "data": {
      "image/png": "[encoded data removed]",
      "text/plain": [
       "<Figure size 640x480 with 1 Axes>"
      ]
     },
     "metadata": {},
     "output_type": "display_data"
    }
   ],
   "source": [
    "plt.bar(df['CAEC'].value_counts().index, df['CAEC'].value_counts())\n",
    "plt.title('Do you eat any food between meals? survey')\n",
    "plt.show()"
   ]
  },
  {
   "cell_type": "code",
   "execution_count": 15,
   "id": "e8bd8aad",
   "metadata": {
    "execution": {
     "iopub.execute_input": "2025-03-29T15:52:06.594939Z",
     "iopub.status.busy": "2025-03-29T15:52:06.594558Z",
     "iopub.status.idle": "2025-03-29T15:52:06.845734Z",
     "shell.execute_reply": "2025-03-29T15:52:06.844562Z"
    },
    "papermill": {
     "duration": 0.264968,
     "end_time": "2025-03-29T15:52:06.847665",
     "exception": false,
     "start_time": "2025-03-29T15:52:06.582697",
     "status": "completed"
    },
    "tags": []
   },
   "outputs": [
    {
     "data": {
      "image/png": "[encoded data removed]",
      "text/plain": [
       "<Figure size 640x480 with 1 Axes>"
      ]
     },
     "metadata": {},
     "output_type": "display_data"
    }
   ],
   "source": [
    "plt.hist(df['Weight'], density=True ,color='#fcba03')\n",
    "plt.title('Weight distribution', fontweight='bold')\n",
    "plt.grid(linewidth = 0.5)\n",
    "plt.show()"
   ]
  },
  {
   "cell_type": "code",
   "execution_count": 16,
   "id": "069958d2",
   "metadata": {
    "execution": {
     "iopub.execute_input": "2025-03-29T15:52:06.871925Z",
     "iopub.status.busy": "2025-03-29T15:52:06.871531Z",
     "iopub.status.idle": "2025-03-29T15:52:07.088035Z",
     "shell.execute_reply": "2025-03-29T15:52:07.086954Z"
    },
    "papermill": {
     "duration": 0.23101,
     "end_time": "2025-03-29T15:52:07.090043",
     "exception": false,
     "start_time": "2025-03-29T15:52:06.859033",
     "status": "completed"
    },
    "tags": []
   },
   "outputs": [],
   "source": [
    "from sklearn.preprocessing import LabelEncoder\n",
    "\n",
    "d_types = dict(df.dtypes)\n",
    "\n",
    "for name , type_ in d_types.items():\n",
    "    if str(type_) == 'object':\n",
    "        Le = LabelEncoder()\n",
    "        df[name] = Le.fit_transform(df[name])"
   ]
  },
  {
   "cell_type": "code",
   "execution_count": 17,
   "id": "e01d0a3c",
   "metadata": {
    "execution": {
     "iopub.execute_input": "2025-03-29T15:52:07.114189Z",
     "iopub.status.busy": "2025-03-29T15:52:07.113834Z",
     "iopub.status.idle": "2025-03-29T15:52:07.131841Z",
     "shell.execute_reply": "2025-03-29T15:52:07.130519Z"
    },
    "papermill": {
     "duration": 0.032264,
     "end_time": "2025-03-29T15:52:07.133785",
     "exception": false,
     "start_time": "2025-03-29T15:52:07.101521",
     "status": "completed"
    },
    "tags": []
   },
   "outputs": [
    {
     "data": {
      "text/html": [
       "<div>\n",
       "<style scoped>\n",
       "    .dataframe tbody tr th:only-of-type {\n",
       "        vertical-align: middle;\n",
       "    }\n",
       "\n",
       "    .dataframe tbody tr th {\n",
       "        vertical-align: top;\n",
       "    }\n",
       "\n",
       "    .dataframe thead th {\n",
       "        text-align: right;\n",
       "    }\n",
       "</style>\n",
       "<table border=\"1\" class=\"dataframe\">\n",
       "  <thead>\n",
       "    <tr style=\"text-align: right;\">\n",
       "      <th></th>\n",
       "      <th>Gender</th>\n",
       "      <th>Age</th>\n",
       "      <th>Height</th>\n",
       "      <th>Weight</th>\n",
       "      <th>family_history_with_overweight</th>\n",
       "      <th>FAVC</th>\n",
       "      <th>FCVC</th>\n",
       "      <th>NCP</th>\n",
       "      <th>CAEC</th>\n",
       "      <th>SMOKE</th>\n",
       "      <th>CH2O</th>\n",
       "      <th>SCC</th>\n",
       "      <th>FAF</th>\n",
       "      <th>TUE</th>\n",
       "      <th>CALC</th>\n",
       "      <th>MTRANS</th>\n",
       "      <th>target</th>\n",
       "    </tr>\n",
       "  </thead>\n",
       "  <tbody>\n",
       "    <tr>\n",
       "      <th>0</th>\n",
       "      <td>0</td>\n",
       "      <td>21</td>\n",
       "      <td>1.62</td>\n",
       "      <td>64.0</td>\n",
       "      <td>1</td>\n",
       "      <td>0</td>\n",
       "      <td>2.0</td>\n",
       "      <td>3.0</td>\n",
       "      <td>2</td>\n",
       "      <td>0</td>\n",
       "      <td>2.0</td>\n",
       "      <td>0</td>\n",
       "      <td>0.0</td>\n",
       "      <td>1.0</td>\n",
       "      <td>3</td>\n",
       "      <td>3</td>\n",
       "      <td>1</td>\n",
       "    </tr>\n",
       "    <tr>\n",
       "      <th>1</th>\n",
       "      <td>0</td>\n",
       "      <td>21</td>\n",
       "      <td>1.52</td>\n",
       "      <td>56.0</td>\n",
       "      <td>1</td>\n",
       "      <td>0</td>\n",
       "      <td>3.0</td>\n",
       "      <td>3.0</td>\n",
       "      <td>2</td>\n",
       "      <td>1</td>\n",
       "      <td>3.0</td>\n",
       "      <td>1</td>\n",
       "      <td>3.0</td>\n",
       "      <td>0.0</td>\n",
       "      <td>2</td>\n",
       "      <td>3</td>\n",
       "      <td>1</td>\n",
       "    </tr>\n",
       "    <tr>\n",
       "      <th>2</th>\n",
       "      <td>1</td>\n",
       "      <td>23</td>\n",
       "      <td>1.80</td>\n",
       "      <td>77.0</td>\n",
       "      <td>1</td>\n",
       "      <td>0</td>\n",
       "      <td>2.0</td>\n",
       "      <td>3.0</td>\n",
       "      <td>2</td>\n",
       "      <td>0</td>\n",
       "      <td>2.0</td>\n",
       "      <td>0</td>\n",
       "      <td>2.0</td>\n",
       "      <td>1.0</td>\n",
       "      <td>1</td>\n",
       "      <td>3</td>\n",
       "      <td>1</td>\n",
       "    </tr>\n",
       "    <tr>\n",
       "      <th>3</th>\n",
       "      <td>1</td>\n",
       "      <td>27</td>\n",
       "      <td>1.80</td>\n",
       "      <td>87.0</td>\n",
       "      <td>0</td>\n",
       "      <td>0</td>\n",
       "      <td>3.0</td>\n",
       "      <td>3.0</td>\n",
       "      <td>2</td>\n",
       "      <td>0</td>\n",
       "      <td>2.0</td>\n",
       "      <td>0</td>\n",
       "      <td>2.0</td>\n",
       "      <td>0.0</td>\n",
       "      <td>1</td>\n",
       "      <td>4</td>\n",
       "      <td>2</td>\n",
       "    </tr>\n",
       "    <tr>\n",
       "      <th>4</th>\n",
       "      <td>1</td>\n",
       "      <td>22</td>\n",
       "      <td>1.78</td>\n",
       "      <td>89.8</td>\n",
       "      <td>0</td>\n",
       "      <td>0</td>\n",
       "      <td>2.0</td>\n",
       "      <td>1.0</td>\n",
       "      <td>2</td>\n",
       "      <td>0</td>\n",
       "      <td>2.0</td>\n",
       "      <td>0</td>\n",
       "      <td>0.0</td>\n",
       "      <td>0.0</td>\n",
       "      <td>2</td>\n",
       "      <td>3</td>\n",
       "      <td>3</td>\n",
       "    </tr>\n",
       "  </tbody>\n",
       "</table>\n",
       "</div>"
      ],
      "text/plain": [
       "   Gender  Age  Height  Weight  family_history_with_overweight  FAVC  FCVC  \\\n",
       "0       0   21    1.62    64.0                               1     0   2.0   \n",
       "1       0   21    1.52    56.0                               1     0   3.0   \n",
       "2       1   23    1.80    77.0                               1     0   2.0   \n",
       "3       1   27    1.80    87.0                               0     0   3.0   \n",
       "4       1   22    1.78    89.8                               0     0   2.0   \n",
       "\n",
       "   NCP  CAEC  SMOKE  CH2O  SCC  FAF  TUE  CALC  MTRANS  target  \n",
       "0  3.0     2      0   2.0    0  0.0  1.0     3       3       1  \n",
       "1  3.0     2      1   3.0    1  3.0  0.0     2       3       1  \n",
       "2  3.0     2      0   2.0    0  2.0  1.0     1       3       1  \n",
       "3  3.0     2      0   2.0    0  2.0  0.0     1       4       2  \n",
       "4  1.0     2      0   2.0    0  0.0  0.0     2       3       3  "
      ]
     },
     "execution_count": 17,
     "metadata": {},
     "output_type": "execute_result"
    }
   ],
   "source": [
    "df.head()"
   ]
  },
  {
   "cell_type": "code",
   "execution_count": 18,
   "id": "f8505b2d",
   "metadata": {
    "execution": {
     "iopub.execute_input": "2025-03-29T15:52:07.159051Z",
     "iopub.status.busy": "2025-03-29T15:52:07.158660Z",
     "iopub.status.idle": "2025-03-29T15:52:07.394715Z",
     "shell.execute_reply": "2025-03-29T15:52:07.393542Z"
    },
    "papermill": {
     "duration": 0.250929,
     "end_time": "2025-03-29T15:52:07.396763",
     "exception": false,
     "start_time": "2025-03-29T15:52:07.145834",
     "status": "completed"
    },
    "tags": []
   },
   "outputs": [],
   "source": [
    "from sklearn.model_selection import train_test_split\n",
    "y = df['target']\n",
    "X = df.drop('target', axis=1)\n",
    "\n"
   ]
  },
  {
   "cell_type": "code",
   "execution_count": 19,
   "id": "22cdffbd",
   "metadata": {
    "execution": {
     "iopub.execute_input": "2025-03-29T15:52:07.421263Z",
     "iopub.status.busy": "2025-03-29T15:52:07.420879Z",
     "iopub.status.idle": "2025-03-29T15:52:07.430724Z",
     "shell.execute_reply": "2025-03-29T15:52:07.429342Z"
    },
    "papermill": {
     "duration": 0.024322,
     "end_time": "2025-03-29T15:52:07.432586",
     "exception": false,
     "start_time": "2025-03-29T15:52:07.408264",
     "status": "completed"
    },
    "tags": []
   },
   "outputs": [
    {
     "name": "stdout",
     "output_type": "stream",
     "text": [
      "(1669, 16)\n",
      "(418, 16)\n"
     ]
    }
   ],
   "source": [
    "X_train, X_test, y_train, y_test = train_test_split(X, y, test_size=0.2, random_state=32)\n",
    "print(X_train.shape)\n",
    "print(X_test.shape)"
   ]
  },
  {
   "cell_type": "code",
   "execution_count": 20,
   "id": "6a9fd72a",
   "metadata": {
    "execution": {
     "iopub.execute_input": "2025-03-29T15:52:07.457863Z",
     "iopub.status.busy": "2025-03-29T15:52:07.457458Z",
     "iopub.status.idle": "2025-03-29T15:52:31.942934Z",
     "shell.execute_reply": "2025-03-29T15:52:31.941645Z"
    },
    "papermill": {
     "duration": 24.500245,
     "end_time": "2025-03-29T15:52:31.944912",
     "exception": false,
     "start_time": "2025-03-29T15:52:07.444667",
     "status": "completed"
    },
    "tags": []
   },
   "outputs": [
    {
     "data": {
      "text/html": [
       "<style>#sk-container-id-1 {color: black;background-color: white;}#sk-container-id-1 pre{padding: 0;}#sk-container-id-1 div.sk-toggleable {background-color: white;}#sk-container-id-1 label.sk-toggleable__label {cursor: pointer;display: block;width: 100%;margin-bottom: 0;padding: 0.3em;box-sizing: border-box;text-align: center;}#sk-container-id-1 label.sk-toggleable__label-arrow:before {content: \"▸\";float: left;margin-right: 0.25em;color: #696969;}#sk-container-id-1 label.sk-toggleable__label-arrow:hover:before {color: black;}#sk-container-id-1 div.sk-estimator:hover label.sk-toggleable__label-arrow:before {color: black;}#sk-container-id-1 div.sk-toggleable__content {max-height: 0;max-width: 0;overflow: hidden;text-align: left;background-color: #f0f8ff;}#sk-container-id-1 div.sk-toggleable__content pre {margin: 0.2em;color: black;border-radius: 0.25em;background-color: #f0f8ff;}#sk-container-id-1 input.sk-toggleable__control:checked~div.sk-toggleable__content {max-height: 200px;max-width: 100%;overflow: auto;}#sk-container-id-1 input.sk-toggleable__control:checked~label.sk-toggleable__label-arrow:before {content: \"▾\";}#sk-container-id-1 div.sk-estimator input.sk-toggleable__control:checked~label.sk-toggleable__label {background-color: #d4ebff;}#sk-container-id-1 div.sk-label input.sk-toggleable__control:checked~label.sk-toggleable__label {background-color: #d4ebff;}#sk-container-id-1 input.sk-hidden--visually {border: 0;clip: rect(1px 1px 1px 1px);clip: rect(1px, 1px, 1px, 1px);height: 1px;margin: -1px;overflow: hidden;padding: 0;position: absolute;width: 1px;}#sk-container-id-1 div.sk-estimator {font-family: monospace;background-color: #f0f8ff;border: 1px dotted black;border-radius: 0.25em;box-sizing: border-box;margin-bottom: 0.5em;}#sk-container-id-1 div.sk-estimator:hover {background-color: #d4ebff;}#sk-container-id-1 div.sk-parallel-item::after {content: \"\";width: 100%;border-bottom: 1px solid gray;flex-grow: 1;}#sk-container-id-1 div.sk-label:hover label.sk-toggleable__label {background-color: #d4ebff;}#sk-container-id-1 div.sk-serial::before {content: \"\";position: absolute;border-left: 1px solid gray;box-sizing: border-box;top: 0;bottom: 0;left: 50%;z-index: 0;}#sk-container-id-1 div.sk-serial {display: flex;flex-direction: column;align-items: center;background-color: white;padding-right: 0.2em;padding-left: 0.2em;position: relative;}#sk-container-id-1 div.sk-item {position: relative;z-index: 1;}#sk-container-id-1 div.sk-parallel {display: flex;align-items: stretch;justify-content: center;background-color: white;position: relative;}#sk-container-id-1 div.sk-item::before, #sk-container-id-1 div.sk-parallel-item::before {content: \"\";position: absolute;border-left: 1px solid gray;box-sizing: border-box;top: 0;bottom: 0;left: 50%;z-index: -1;}#sk-container-id-1 div.sk-parallel-item {display: flex;flex-direction: column;z-index: 1;position: relative;background-color: white;}#sk-container-id-1 div.sk-parallel-item:first-child::after {align-self: flex-end;width: 50%;}#sk-container-id-1 div.sk-parallel-item:last-child::after {align-self: flex-start;width: 50%;}#sk-container-id-1 div.sk-parallel-item:only-child::after {width: 0;}#sk-container-id-1 div.sk-dashed-wrapped {border: 1px dashed gray;margin: 0 0.4em 0.5em 0.4em;box-sizing: border-box;padding-bottom: 0.4em;background-color: white;}#sk-container-id-1 div.sk-label label {font-family: monospace;font-weight: bold;display: inline-block;line-height: 1.2em;}#sk-container-id-1 div.sk-label-container {text-align: center;}#sk-container-id-1 div.sk-container {/* jupyter's `normalize.less` sets `[hidden] { display: none; }` but bootstrap.min.css set `[hidden] { display: none !important; }` so we also need the `!important` here to be able to override the default hidden behavior on the sphinx rendered scikit-learn.org. See: https://github.com/scikit-learn/scikit-learn/issues/21755 */display: inline-block !important;position: relative;}#sk-container-id-1 div.sk-text-repr-fallback {display: none;}</style><div id=\"sk-container-id-1\" class=\"sk-top-container\"><div class=\"sk-text-repr-fallback\"><pre>RFECV(estimator=RandomForestClassifier(n_estimators=150),\n",
       "      min_features_to_select=4, n_jobs=-1)</pre><b>In a Jupyter environment, please rerun this cell to show the HTML representation or trust the notebook. <br />On GitHub, the HTML representation is unable to render, please try loading this page with nbviewer.org.</b></div><div class=\"sk-container\" hidden><div class=\"sk-item sk-dashed-wrapped\"><div class=\"sk-label-container\"><div class=\"sk-label sk-toggleable\"><input class=\"sk-toggleable__control sk-hidden--visually\" id=\"sk-estimator-id-1\" type=\"checkbox\" ><label for=\"sk-estimator-id-1\" class=\"sk-toggleable__label sk-toggleable__label-arrow\">RFECV</label><div class=\"sk-toggleable__content\"><pre>RFECV(estimator=RandomForestClassifier(n_estimators=150),\n",
       "      min_features_to_select=4, n_jobs=-1)</pre></div></div></div><div class=\"sk-parallel\"><div class=\"sk-parallel-item\"><div class=\"sk-item\"><div class=\"sk-label-container\"><div class=\"sk-label sk-toggleable\"><input class=\"sk-toggleable__control sk-hidden--visually\" id=\"sk-estimator-id-2\" type=\"checkbox\" ><label for=\"sk-estimator-id-2\" class=\"sk-toggleable__label sk-toggleable__label-arrow\">estimator: RandomForestClassifier</label><div class=\"sk-toggleable__content\"><pre>RandomForestClassifier(n_estimators=150)</pre></div></div></div><div class=\"sk-serial\"><div class=\"sk-item\"><div class=\"sk-estimator sk-toggleable\"><input class=\"sk-toggleable__control sk-hidden--visually\" id=\"sk-estimator-id-3\" type=\"checkbox\" ><label for=\"sk-estimator-id-3\" class=\"sk-toggleable__label sk-toggleable__label-arrow\">RandomForestClassifier</label><div class=\"sk-toggleable__content\"><pre>RandomForestClassifier(n_estimators=150)</pre></div></div></div></div></div></div></div></div></div></div>"
      ],
      "text/plain": [
       "RFECV(estimator=RandomForestClassifier(n_estimators=150),\n",
       "      min_features_to_select=4, n_jobs=-1)"
      ]
     },
     "execution_count": 20,
     "metadata": {},
     "output_type": "execute_result"
    }
   ],
   "source": [
    "from sklearn.ensemble import RandomForestClassifier\n",
    "from sklearn.feature_selection import RFECV\n",
    "\n",
    "model = RandomForestClassifier(n_estimators=150)\n",
    "rfecv = RFECV(model, step = 1, min_features_to_select= 4, n_jobs=-1)\n",
    "rfecv.fit(X_train, y_train)"
   ]
  },
  {
   "cell_type": "code",
   "execution_count": 21,
   "id": "b249d4f8",
   "metadata": {
    "execution": {
     "iopub.execute_input": "2025-03-29T15:52:31.970959Z",
     "iopub.status.busy": "2025-03-29T15:52:31.970562Z",
     "iopub.status.idle": "2025-03-29T15:52:31.977657Z",
     "shell.execute_reply": "2025-03-29T15:52:31.976527Z"
    },
    "papermill": {
     "duration": 0.022021,
     "end_time": "2025-03-29T15:52:31.979555",
     "exception": false,
     "start_time": "2025-03-29T15:52:31.957534",
     "status": "completed"
    },
    "tags": []
   },
   "outputs": [
    {
     "data": {
      "text/plain": [
       "array([False,  True,  True,  True, False, False,  True, False, False,\n",
       "       False, False, False, False, False, False, False])"
      ]
     },
     "execution_count": 21,
     "metadata": {},
     "output_type": "execute_result"
    }
   ],
   "source": [
    "rfecv.support_"
   ]
  },
  {
   "cell_type": "code",
   "execution_count": 22,
   "id": "f6e906a8",
   "metadata": {
    "execution": {
     "iopub.execute_input": "2025-03-29T15:52:32.007023Z",
     "iopub.status.busy": "2025-03-29T15:52:32.006646Z",
     "iopub.status.idle": "2025-03-29T15:52:32.013170Z",
     "shell.execute_reply": "2025-03-29T15:52:32.011945Z"
    },
    "papermill": {
     "duration": 0.021965,
     "end_time": "2025-03-29T15:52:32.015127",
     "exception": false,
     "start_time": "2025-03-29T15:52:31.993162",
     "status": "completed"
    },
    "tags": []
   },
   "outputs": [
    {
     "data": {
      "text/plain": [
       "Index(['Gender', 'Age', 'Height', 'Weight', 'family_history_with_overweight',\n",
       "       'FAVC', 'FCVC', 'NCP', 'CAEC', 'SMOKE', 'CH2O', 'SCC', 'FAF', 'TUE',\n",
       "       'CALC', 'MTRANS', 'target'],\n",
       "      dtype='object')"
      ]
     },
     "execution_count": 22,
     "metadata": {},
     "output_type": "execute_result"
    }
   ],
   "source": [
    "df.columns"
   ]
  },
  {
   "cell_type": "code",
   "execution_count": 23,
   "id": "bf871e62",
   "metadata": {
    "execution": {
     "iopub.execute_input": "2025-03-29T15:52:32.042436Z",
     "iopub.status.busy": "2025-03-29T15:52:32.042053Z",
     "iopub.status.idle": "2025-03-29T15:52:32.055589Z",
     "shell.execute_reply": "2025-03-29T15:52:32.054178Z"
    },
    "papermill": {
     "duration": 0.029202,
     "end_time": "2025-03-29T15:52:32.057492",
     "exception": false,
     "start_time": "2025-03-29T15:52:32.028290",
     "status": "completed"
    },
    "tags": []
   },
   "outputs": [
    {
     "data": {
      "text/html": [
       "<div>\n",
       "<style scoped>\n",
       "    .dataframe tbody tr th:only-of-type {\n",
       "        vertical-align: middle;\n",
       "    }\n",
       "\n",
       "    .dataframe tbody tr th {\n",
       "        vertical-align: top;\n",
       "    }\n",
       "\n",
       "    .dataframe thead th {\n",
       "        text-align: right;\n",
       "    }\n",
       "</style>\n",
       "<table border=\"1\" class=\"dataframe\">\n",
       "  <thead>\n",
       "    <tr style=\"text-align: right;\">\n",
       "      <th></th>\n",
       "      <th>column</th>\n",
       "      <th>Selected?</th>\n",
       "    </tr>\n",
       "  </thead>\n",
       "  <tbody>\n",
       "    <tr>\n",
       "      <th>0</th>\n",
       "      <td>Gender</td>\n",
       "      <td>False</td>\n",
       "    </tr>\n",
       "    <tr>\n",
       "      <th>1</th>\n",
       "      <td>Age</td>\n",
       "      <td>True</td>\n",
       "    </tr>\n",
       "    <tr>\n",
       "      <th>2</th>\n",
       "      <td>Height</td>\n",
       "      <td>True</td>\n",
       "    </tr>\n",
       "    <tr>\n",
       "      <th>3</th>\n",
       "      <td>Weight</td>\n",
       "      <td>True</td>\n",
       "    </tr>\n",
       "    <tr>\n",
       "      <th>4</th>\n",
       "      <td>family_history_with_overweight</td>\n",
       "      <td>False</td>\n",
       "    </tr>\n",
       "    <tr>\n",
       "      <th>5</th>\n",
       "      <td>FAVC</td>\n",
       "      <td>False</td>\n",
       "    </tr>\n",
       "    <tr>\n",
       "      <th>6</th>\n",
       "      <td>FCVC</td>\n",
       "      <td>True</td>\n",
       "    </tr>\n",
       "    <tr>\n",
       "      <th>7</th>\n",
       "      <td>NCP</td>\n",
       "      <td>False</td>\n",
       "    </tr>\n",
       "    <tr>\n",
       "      <th>8</th>\n",
       "      <td>CAEC</td>\n",
       "      <td>False</td>\n",
       "    </tr>\n",
       "    <tr>\n",
       "      <th>9</th>\n",
       "      <td>SMOKE</td>\n",
       "      <td>False</td>\n",
       "    </tr>\n",
       "    <tr>\n",
       "      <th>10</th>\n",
       "      <td>CH2O</td>\n",
       "      <td>False</td>\n",
       "    </tr>\n",
       "    <tr>\n",
       "      <th>11</th>\n",
       "      <td>SCC</td>\n",
       "      <td>False</td>\n",
       "    </tr>\n",
       "    <tr>\n",
       "      <th>12</th>\n",
       "      <td>FAF</td>\n",
       "      <td>False</td>\n",
       "    </tr>\n",
       "    <tr>\n",
       "      <th>13</th>\n",
       "      <td>TUE</td>\n",
       "      <td>False</td>\n",
       "    </tr>\n",
       "    <tr>\n",
       "      <th>14</th>\n",
       "      <td>CALC</td>\n",
       "      <td>False</td>\n",
       "    </tr>\n",
       "    <tr>\n",
       "      <th>15</th>\n",
       "      <td>MTRANS</td>\n",
       "      <td>False</td>\n",
       "    </tr>\n",
       "  </tbody>\n",
       "</table>\n",
       "</div>"
      ],
      "text/plain": [
       "                            column  Selected?\n",
       "0                           Gender      False\n",
       "1                              Age       True\n",
       "2                           Height       True\n",
       "3                           Weight       True\n",
       "4   family_history_with_overweight      False\n",
       "5                             FAVC      False\n",
       "6                             FCVC       True\n",
       "7                              NCP      False\n",
       "8                             CAEC      False\n",
       "9                            SMOKE      False\n",
       "10                            CH2O      False\n",
       "11                             SCC      False\n",
       "12                             FAF      False\n",
       "13                             TUE      False\n",
       "14                            CALC      False\n",
       "15                          MTRANS      False"
      ]
     },
     "execution_count": 23,
     "metadata": {},
     "output_type": "execute_result"
    }
   ],
   "source": [
    "selected_features = pd.DataFrame({'column' : X_train.columns, 'Selected?' : rfecv.support_})\n",
    "selected_features"
   ]
  },
  {
   "cell_type": "code",
   "execution_count": 24,
   "id": "02bef913",
   "metadata": {
    "execution": {
     "iopub.execute_input": "2025-03-29T15:52:32.084506Z",
     "iopub.status.busy": "2025-03-29T15:52:32.084059Z",
     "iopub.status.idle": "2025-03-29T15:52:32.090421Z",
     "shell.execute_reply": "2025-03-29T15:52:32.089299Z"
    },
    "papermill": {
     "duration": 0.021878,
     "end_time": "2025-03-29T15:52:32.092105",
     "exception": false,
     "start_time": "2025-03-29T15:52:32.070227",
     "status": "completed"
    },
    "tags": []
   },
   "outputs": [],
   "source": [
    "selected = np.where(rfecv.support_)[0]\n",
    "X_train = X_train.iloc[:, selected]\n",
    "X_test = X_test.iloc[:, selected]"
   ]
  },
  {
   "cell_type": "code",
   "execution_count": 25,
   "id": "7363c150",
   "metadata": {
    "execution": {
     "iopub.execute_input": "2025-03-29T15:52:32.119950Z",
     "iopub.status.busy": "2025-03-29T15:52:32.119544Z",
     "iopub.status.idle": "2025-03-29T15:52:32.557176Z",
     "shell.execute_reply": "2025-03-29T15:52:32.556041Z"
    },
    "papermill": {
     "duration": 0.453744,
     "end_time": "2025-03-29T15:52:32.559041",
     "exception": false,
     "start_time": "2025-03-29T15:52:32.105297",
     "status": "completed"
    },
    "tags": []
   },
   "outputs": [
    {
     "data": {
      "text/html": [
       "<style>#sk-container-id-2 {color: black;background-color: white;}#sk-container-id-2 pre{padding: 0;}#sk-container-id-2 div.sk-toggleable {background-color: white;}#sk-container-id-2 label.sk-toggleable__label {cursor: pointer;display: block;width: 100%;margin-bottom: 0;padding: 0.3em;box-sizing: border-box;text-align: center;}#sk-container-id-2 label.sk-toggleable__label-arrow:before {content: \"▸\";float: left;margin-right: 0.25em;color: #696969;}#sk-container-id-2 label.sk-toggleable__label-arrow:hover:before {color: black;}#sk-container-id-2 div.sk-estimator:hover label.sk-toggleable__label-arrow:before {color: black;}#sk-container-id-2 div.sk-toggleable__content {max-height: 0;max-width: 0;overflow: hidden;text-align: left;background-color: #f0f8ff;}#sk-container-id-2 div.sk-toggleable__content pre {margin: 0.2em;color: black;border-radius: 0.25em;background-color: #f0f8ff;}#sk-container-id-2 input.sk-toggleable__control:checked~div.sk-toggleable__content {max-height: 200px;max-width: 100%;overflow: auto;}#sk-container-id-2 input.sk-toggleable__control:checked~label.sk-toggleable__label-arrow:before {content: \"▾\";}#sk-container-id-2 div.sk-estimator input.sk-toggleable__control:checked~label.sk-toggleable__label {background-color: #d4ebff;}#sk-container-id-2 div.sk-label input.sk-toggleable__control:checked~label.sk-toggleable__label {background-color: #d4ebff;}#sk-container-id-2 input.sk-hidden--visually {border: 0;clip: rect(1px 1px 1px 1px);clip: rect(1px, 1px, 1px, 1px);height: 1px;margin: -1px;overflow: hidden;padding: 0;position: absolute;width: 1px;}#sk-container-id-2 div.sk-estimator {font-family: monospace;background-color: #f0f8ff;border: 1px dotted black;border-radius: 0.25em;box-sizing: border-box;margin-bottom: 0.5em;}#sk-container-id-2 div.sk-estimator:hover {background-color: #d4ebff;}#sk-container-id-2 div.sk-parallel-item::after {content: \"\";width: 100%;border-bottom: 1px solid gray;flex-grow: 1;}#sk-container-id-2 div.sk-label:hover label.sk-toggleable__label {background-color: #d4ebff;}#sk-container-id-2 div.sk-serial::before {content: \"\";position: absolute;border-left: 1px solid gray;box-sizing: border-box;top: 0;bottom: 0;left: 50%;z-index: 0;}#sk-container-id-2 div.sk-serial {display: flex;flex-direction: column;align-items: center;background-color: white;padding-right: 0.2em;padding-left: 0.2em;position: relative;}#sk-container-id-2 div.sk-item {position: relative;z-index: 1;}#sk-container-id-2 div.sk-parallel {display: flex;align-items: stretch;justify-content: center;background-color: white;position: relative;}#sk-container-id-2 div.sk-item::before, #sk-container-id-2 div.sk-parallel-item::before {content: \"\";position: absolute;border-left: 1px solid gray;box-sizing: border-box;top: 0;bottom: 0;left: 50%;z-index: -1;}#sk-container-id-2 div.sk-parallel-item {display: flex;flex-direction: column;z-index: 1;position: relative;background-color: white;}#sk-container-id-2 div.sk-parallel-item:first-child::after {align-self: flex-end;width: 50%;}#sk-container-id-2 div.sk-parallel-item:last-child::after {align-self: flex-start;width: 50%;}#sk-container-id-2 div.sk-parallel-item:only-child::after {width: 0;}#sk-container-id-2 div.sk-dashed-wrapped {border: 1px dashed gray;margin: 0 0.4em 0.5em 0.4em;box-sizing: border-box;padding-bottom: 0.4em;background-color: white;}#sk-container-id-2 div.sk-label label {font-family: monospace;font-weight: bold;display: inline-block;line-height: 1.2em;}#sk-container-id-2 div.sk-label-container {text-align: center;}#sk-container-id-2 div.sk-container {/* jupyter's `normalize.less` sets `[hidden] { display: none; }` but bootstrap.min.css set `[hidden] { display: none !important; }` so we also need the `!important` here to be able to override the default hidden behavior on the sphinx rendered scikit-learn.org. See: https://github.com/scikit-learn/scikit-learn/issues/21755 */display: inline-block !important;position: relative;}#sk-container-id-2 div.sk-text-repr-fallback {display: none;}</style><div id=\"sk-container-id-2\" class=\"sk-top-container\"><div class=\"sk-text-repr-fallback\"><pre>RandomForestClassifier(n_estimators=150)</pre><b>In a Jupyter environment, please rerun this cell to show the HTML representation or trust the notebook. <br />On GitHub, the HTML representation is unable to render, please try loading this page with nbviewer.org.</b></div><div class=\"sk-container\" hidden><div class=\"sk-item\"><div class=\"sk-estimator sk-toggleable\"><input class=\"sk-toggleable__control sk-hidden--visually\" id=\"sk-estimator-id-4\" type=\"checkbox\" checked><label for=\"sk-estimator-id-4\" class=\"sk-toggleable__label sk-toggleable__label-arrow\">RandomForestClassifier</label><div class=\"sk-toggleable__content\"><pre>RandomForestClassifier(n_estimators=150)</pre></div></div></div></div></div>"
      ],
      "text/plain": [
       "RandomForestClassifier(n_estimators=150)"
      ]
     },
     "execution_count": 25,
     "metadata": {},
     "output_type": "execute_result"
    }
   ],
   "source": [
    "model.fit(X_train, y_train)"
   ]
  },
  {
   "cell_type": "code",
   "execution_count": 26,
   "id": "d7f3433b",
   "metadata": {
    "execution": {
     "iopub.execute_input": "2025-03-29T15:52:32.586187Z",
     "iopub.status.busy": "2025-03-29T15:52:32.585801Z",
     "iopub.status.idle": "2025-03-29T15:52:32.614246Z",
     "shell.execute_reply": "2025-03-29T15:52:32.612955Z"
    },
    "papermill": {
     "duration": 0.044506,
     "end_time": "2025-03-29T15:52:32.616582",
     "exception": false,
     "start_time": "2025-03-29T15:52:32.572076",
     "status": "completed"
    },
    "tags": []
   },
   "outputs": [
    {
     "name": "stdout",
     "output_type": "stream",
     "text": [
      "Accuracy: 97.4%\n"
     ]
    }
   ],
   "source": [
    "from sklearn.metrics import accuracy_score\n",
    "\n",
    "predicted = model.predict(X_test)\n",
    "print(f'Accuracy: {accuracy_score(y_test, predicted):.1%}')"
   ]
  },
  {
   "cell_type": "code",
   "execution_count": 27,
   "id": "cd757b3b",
   "metadata": {
    "execution": {
     "iopub.execute_input": "2025-03-29T15:52:32.644916Z",
     "iopub.status.busy": "2025-03-29T15:52:32.644491Z",
     "iopub.status.idle": "2025-03-29T15:52:32.651053Z",
     "shell.execute_reply": "2025-03-29T15:52:32.649921Z"
    },
    "papermill": {
     "duration": 0.022263,
     "end_time": "2025-03-29T15:52:32.653030",
     "exception": false,
     "start_time": "2025-03-29T15:52:32.630767",
     "status": "completed"
    },
    "tags": []
   },
   "outputs": [
    {
     "data": {
      "text/plain": [
       "{1: 'Normal_Weight',\n",
       " 2: 'Overweight_Level_I',\n",
       " 3: 'Overweight_Level_II',\n",
       " 4: 'Obesity_Type_I',\n",
       " 0: 'Insufficient_Weight',\n",
       " 5: 'Obesity_Type_II',\n",
       " 6: 'Obesity_Type_III'}"
      ]
     },
     "execution_count": 27,
     "metadata": {},
     "output_type": "execute_result"
    }
   ],
   "source": [
    "reverse_mapping = {v:k for k, v in new_target.items()}\n",
    "reverse_mapping"
   ]
  },
  {
   "cell_type": "code",
   "execution_count": 28,
   "id": "3e8fa8d7",
   "metadata": {
    "execution": {
     "iopub.execute_input": "2025-03-29T15:52:32.680556Z",
     "iopub.status.busy": "2025-03-29T15:52:32.680068Z",
     "iopub.status.idle": "2025-03-29T15:52:32.686707Z",
     "shell.execute_reply": "2025-03-29T15:52:32.685252Z"
    },
    "papermill": {
     "duration": 0.022749,
     "end_time": "2025-03-29T15:52:32.688985",
     "exception": false,
     "start_time": "2025-03-29T15:52:32.666236",
     "status": "completed"
    },
    "tags": []
   },
   "outputs": [],
   "source": [
    "predictions = pd.Series(predicted)\n",
    "predictions = predictions.map(reverse_mapping)"
   ]
  },
  {
   "cell_type": "code",
   "execution_count": 29,
   "id": "4c2d55ca",
   "metadata": {
    "execution": {
     "iopub.execute_input": "2025-03-29T15:52:32.716041Z",
     "iopub.status.busy": "2025-03-29T15:52:32.715622Z",
     "iopub.status.idle": "2025-03-29T15:52:32.724117Z",
     "shell.execute_reply": "2025-03-29T15:52:32.722962Z"
    },
    "papermill": {
     "duration": 0.024006,
     "end_time": "2025-03-29T15:52:32.725916",
     "exception": false,
     "start_time": "2025-03-29T15:52:32.701910",
     "status": "completed"
    },
    "tags": []
   },
   "outputs": [
    {
     "data": {
      "text/plain": [
       "0      Overweight_Level_II\n",
       "1           Obesity_Type_I\n",
       "2         Obesity_Type_III\n",
       "3          Obesity_Type_II\n",
       "4      Insufficient_Weight\n",
       "              ...         \n",
       "413          Normal_Weight\n",
       "414    Insufficient_Weight\n",
       "415         Obesity_Type_I\n",
       "416    Overweight_Level_II\n",
       "417     Overweight_Level_I\n",
       "Length: 418, dtype: object"
      ]
     },
     "execution_count": 29,
     "metadata": {},
     "output_type": "execute_result"
    }
   ],
   "source": [
    "predictions"
   ]
  },
  {
   "cell_type": "code",
   "execution_count": 30,
   "id": "75fde128",
   "metadata": {
    "execution": {
     "iopub.execute_input": "2025-03-29T15:52:32.753583Z",
     "iopub.status.busy": "2025-03-29T15:52:32.753155Z",
     "iopub.status.idle": "2025-03-29T15:52:32.758702Z",
     "shell.execute_reply": "2025-03-29T15:52:32.757542Z"
    },
    "papermill": {
     "duration": 0.021335,
     "end_time": "2025-03-29T15:52:32.760310",
     "exception": false,
     "start_time": "2025-03-29T15:52:32.738975",
     "status": "completed"
    },
    "tags": []
   },
   "outputs": [],
   "source": [
    "y_test = pd.Series(y_test)\n",
    "y_test = y_test.map(reverse_mapping)"
   ]
  },
  {
   "cell_type": "code",
   "execution_count": 31,
   "id": "210e54b4",
   "metadata": {
    "execution": {
     "iopub.execute_input": "2025-03-29T15:52:32.787448Z",
     "iopub.status.busy": "2025-03-29T15:52:32.787030Z",
     "iopub.status.idle": "2025-03-29T15:52:32.799591Z",
     "shell.execute_reply": "2025-03-29T15:52:32.798338Z"
    },
    "papermill": {
     "duration": 0.028061,
     "end_time": "2025-03-29T15:52:32.801353",
     "exception": false,
     "start_time": "2025-03-29T15:52:32.773292",
     "status": "completed"
    },
    "tags": []
   },
   "outputs": [
    {
     "data": {
      "text/html": [
       "<div>\n",
       "<style scoped>\n",
       "    .dataframe tbody tr th:only-of-type {\n",
       "        vertical-align: middle;\n",
       "    }\n",
       "\n",
       "    .dataframe tbody tr th {\n",
       "        vertical-align: top;\n",
       "    }\n",
       "\n",
       "    .dataframe thead th {\n",
       "        text-align: right;\n",
       "    }\n",
       "</style>\n",
       "<table border=\"1\" class=\"dataframe\">\n",
       "  <thead>\n",
       "    <tr style=\"text-align: right;\">\n",
       "      <th></th>\n",
       "      <th>Actual</th>\n",
       "      <th>Predicted</th>\n",
       "    </tr>\n",
       "  </thead>\n",
       "  <tbody>\n",
       "    <tr>\n",
       "      <th>0</th>\n",
       "      <td>Overweight_Level_II</td>\n",
       "      <td>Overweight_Level_II</td>\n",
       "    </tr>\n",
       "    <tr>\n",
       "      <th>1</th>\n",
       "      <td>Obesity_Type_I</td>\n",
       "      <td>Obesity_Type_I</td>\n",
       "    </tr>\n",
       "    <tr>\n",
       "      <th>2</th>\n",
       "      <td>Obesity_Type_III</td>\n",
       "      <td>Obesity_Type_III</td>\n",
       "    </tr>\n",
       "    <tr>\n",
       "      <th>3</th>\n",
       "      <td>Obesity_Type_II</td>\n",
       "      <td>Obesity_Type_II</td>\n",
       "    </tr>\n",
       "    <tr>\n",
       "      <th>4</th>\n",
       "      <td>Insufficient_Weight</td>\n",
       "      <td>Insufficient_Weight</td>\n",
       "    </tr>\n",
       "    <tr>\n",
       "      <th>...</th>\n",
       "      <td>...</td>\n",
       "      <td>...</td>\n",
       "    </tr>\n",
       "    <tr>\n",
       "      <th>413</th>\n",
       "      <td>Normal_Weight</td>\n",
       "      <td>Normal_Weight</td>\n",
       "    </tr>\n",
       "    <tr>\n",
       "      <th>414</th>\n",
       "      <td>Normal_Weight</td>\n",
       "      <td>Insufficient_Weight</td>\n",
       "    </tr>\n",
       "    <tr>\n",
       "      <th>415</th>\n",
       "      <td>Obesity_Type_I</td>\n",
       "      <td>Obesity_Type_I</td>\n",
       "    </tr>\n",
       "    <tr>\n",
       "      <th>416</th>\n",
       "      <td>Overweight_Level_II</td>\n",
       "      <td>Overweight_Level_II</td>\n",
       "    </tr>\n",
       "    <tr>\n",
       "      <th>417</th>\n",
       "      <td>Overweight_Level_I</td>\n",
       "      <td>Overweight_Level_I</td>\n",
       "    </tr>\n",
       "  </tbody>\n",
       "</table>\n",
       "<p>418 rows × 2 columns</p>\n",
       "</div>"
      ],
      "text/plain": [
       "                  Actual            Predicted\n",
       "0    Overweight_Level_II  Overweight_Level_II\n",
       "1         Obesity_Type_I       Obesity_Type_I\n",
       "2       Obesity_Type_III     Obesity_Type_III\n",
       "3        Obesity_Type_II      Obesity_Type_II\n",
       "4    Insufficient_Weight  Insufficient_Weight\n",
       "..                   ...                  ...\n",
       "413        Normal_Weight        Normal_Weight\n",
       "414        Normal_Weight  Insufficient_Weight\n",
       "415       Obesity_Type_I       Obesity_Type_I\n",
       "416  Overweight_Level_II  Overweight_Level_II\n",
       "417   Overweight_Level_I   Overweight_Level_I\n",
       "\n",
       "[418 rows x 2 columns]"
      ]
     },
     "execution_count": 31,
     "metadata": {},
     "output_type": "execute_result"
    }
   ],
   "source": [
    "result = pd.DataFrame({'Actual' : np.array(y_test), 'Predicted' : np.array(predictions)})\n",
    "result"
   ]
  },
  {
   "cell_type": "code",
   "execution_count": 32,
   "id": "179ec8f6",
   "metadata": {
    "execution": {
     "iopub.execute_input": "2025-03-29T15:52:32.830010Z",
     "iopub.status.busy": "2025-03-29T15:52:32.829589Z",
     "iopub.status.idle": "2025-03-29T15:52:32.841751Z",
     "shell.execute_reply": "2025-03-29T15:52:32.840665Z"
    },
    "papermill": {
     "duration": 0.028979,
     "end_time": "2025-03-29T15:52:32.843894",
     "exception": false,
     "start_time": "2025-03-29T15:52:32.814915",
     "status": "completed"
    },
    "tags": []
   },
   "outputs": [
    {
     "data": {
      "text/html": [
       "<div>\n",
       "<style scoped>\n",
       "    .dataframe tbody tr th:only-of-type {\n",
       "        vertical-align: middle;\n",
       "    }\n",
       "\n",
       "    .dataframe tbody tr th {\n",
       "        vertical-align: top;\n",
       "    }\n",
       "\n",
       "    .dataframe thead th {\n",
       "        text-align: right;\n",
       "    }\n",
       "</style>\n",
       "<table border=\"1\" class=\"dataframe\">\n",
       "  <thead>\n",
       "    <tr style=\"text-align: right;\">\n",
       "      <th></th>\n",
       "      <th>Actual</th>\n",
       "      <th>Predicted</th>\n",
       "    </tr>\n",
       "  </thead>\n",
       "  <tbody>\n",
       "    <tr>\n",
       "      <th>0</th>\n",
       "      <td>Overweight_Level_II</td>\n",
       "      <td>Overweight_Level_II</td>\n",
       "    </tr>\n",
       "    <tr>\n",
       "      <th>1</th>\n",
       "      <td>Obesity_Type_I</td>\n",
       "      <td>Obesity_Type_I</td>\n",
       "    </tr>\n",
       "    <tr>\n",
       "      <th>2</th>\n",
       "      <td>Obesity_Type_III</td>\n",
       "      <td>Obesity_Type_III</td>\n",
       "    </tr>\n",
       "    <tr>\n",
       "      <th>3</th>\n",
       "      <td>Obesity_Type_II</td>\n",
       "      <td>Obesity_Type_II</td>\n",
       "    </tr>\n",
       "    <tr>\n",
       "      <th>4</th>\n",
       "      <td>Insufficient_Weight</td>\n",
       "      <td>Insufficient_Weight</td>\n",
       "    </tr>\n",
       "    <tr>\n",
       "      <th>5</th>\n",
       "      <td>Normal_Weight</td>\n",
       "      <td>Normal_Weight</td>\n",
       "    </tr>\n",
       "    <tr>\n",
       "      <th>6</th>\n",
       "      <td>Overweight_Level_I</td>\n",
       "      <td>Overweight_Level_I</td>\n",
       "    </tr>\n",
       "    <tr>\n",
       "      <th>35</th>\n",
       "      <td>Normal_Weight</td>\n",
       "      <td>Insufficient_Weight</td>\n",
       "    </tr>\n",
       "    <tr>\n",
       "      <th>85</th>\n",
       "      <td>Normal_Weight</td>\n",
       "      <td>Overweight_Level_I</td>\n",
       "    </tr>\n",
       "    <tr>\n",
       "      <th>159</th>\n",
       "      <td>Insufficient_Weight</td>\n",
       "      <td>Normal_Weight</td>\n",
       "    </tr>\n",
       "    <tr>\n",
       "      <th>354</th>\n",
       "      <td>Overweight_Level_I</td>\n",
       "      <td>Normal_Weight</td>\n",
       "    </tr>\n",
       "    <tr>\n",
       "      <th>390</th>\n",
       "      <td>Overweight_Level_II</td>\n",
       "      <td>Obesity_Type_I</td>\n",
       "    </tr>\n",
       "    <tr>\n",
       "      <th>392</th>\n",
       "      <td>Overweight_Level_I</td>\n",
       "      <td>Overweight_Level_II</td>\n",
       "    </tr>\n",
       "  </tbody>\n",
       "</table>\n",
       "</div>"
      ],
      "text/plain": [
       "                  Actual            Predicted\n",
       "0    Overweight_Level_II  Overweight_Level_II\n",
       "1         Obesity_Type_I       Obesity_Type_I\n",
       "2       Obesity_Type_III     Obesity_Type_III\n",
       "3        Obesity_Type_II      Obesity_Type_II\n",
       "4    Insufficient_Weight  Insufficient_Weight\n",
       "5          Normal_Weight        Normal_Weight\n",
       "6     Overweight_Level_I   Overweight_Level_I\n",
       "35         Normal_Weight  Insufficient_Weight\n",
       "85         Normal_Weight   Overweight_Level_I\n",
       "159  Insufficient_Weight        Normal_Weight\n",
       "354   Overweight_Level_I        Normal_Weight\n",
       "390  Overweight_Level_II       Obesity_Type_I\n",
       "392   Overweight_Level_I  Overweight_Level_II"
      ]
     },
     "execution_count": 32,
     "metadata": {},
     "output_type": "execute_result"
    }
   ],
   "source": [
    "result[~result.duplicated()]"
   ]
  }
 ],
 "metadata": {
  "kaggle": {
   "accelerator": "none",
   "dataSources": [
    {
     "datasetId": 6626835,
     "sourceId": 10694561,
     "sourceType": "datasetVersion"
    }
   ],
   "dockerImageVersionId": 30918,
   "isGpuEnabled": false,
   "isInternetEnabled": true,
   "language": "python",
   "sourceType": "notebook"
  },
  "kernelspec": {
   "display_name": "Python 3",
   "language": "python",
   "name": "python3"
  },
  "language_info": {
   "codemirror_mode": {
    "name": "ipython",
    "version": 3
   },
   "file_extension": ".py",
   "mimetype": "text/x-python",
   "name": "python",
   "nbconvert_exporter": "python",
   "pygments_lexer": "ipython3",
   "version": "3.10.12"
  },
  "papermill": {
   "default_parameters": {},
   "duration": 34.433374,
   "end_time": "2025-03-29T15:52:33.781856",
   "environment_variables": {},
   "exception": null,
   "input_path": "__notebook__.ipynb",
   "output_path": "__notebook__.ipynb",
   "parameters": {},
   "start_time": "2025-03-29T15:51:59.348482",
   "version": "2.6.0"
  }
 },
 "nbformat": 4,
 "nbformat_minor": 5
}
