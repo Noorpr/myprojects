{
 "cells": [
  {
   "cell_type": "code",
   "execution_count": 1,
   "id": "21406bf6",
   "metadata": {
    "_cell_guid": "b1076dfc-b9ad-4769-8c92-a6c4dae69d19",
    "_uuid": "8f2839f25d086af736a60e9eeb907d3b93b6e0e5",
    "execution": {
     "iopub.execute_input": "2025-04-15T15:43:39.179686Z",
     "iopub.status.busy": "2025-04-15T15:43:39.179240Z",
     "iopub.status.idle": "2025-04-15T15:43:41.170258Z",
     "shell.execute_reply": "2025-04-15T15:43:41.168984Z"
    },
    "papermill": {
     "duration": 1.999675,
     "end_time": "2025-04-15T15:43:41.172035",
     "exception": false,
     "start_time": "2025-04-15T15:43:39.172360",
     "status": "completed"
    },
    "tags": []
   },
   "outputs": [
    {
     "name": "stdout",
     "output_type": "stream",
     "text": [
      "/kaggle/input/telco-customer-churn/WA_Fn-UseC_-Telco-Customer-Churn.csv\n"
     ]
    }
   ],
   "source": [
    "# This Python 3 environment comes with many helpful analytics libraries installed\n",
    "# It is defined by the kaggle/python Docker image: https://github.com/kaggle/docker-python\n",
    "# For example, here's several helpful packages to load\n",
    "\n",
    "import numpy as np # linear algebra\n",
    "import pandas as pd # data processing, CSV file I/O (e.g. pd.read_csv)\n",
    "\n",
    "# Input data files are available in the read-only \"../input/\" directory\n",
    "# For example, running this (by clicking run or pressing Shift+Enter) will list all files under the input directory\n",
    "\n",
    "import os\n",
    "for dirname, _, filenames in os.walk('/kaggle/input'):\n",
    "    for filename in filenames:\n",
    "        print(os.path.join(dirname, filename))\n",
    "\n",
    "# You can write up to 20GB to the current directory (/kaggle/working/) that gets preserved as output when you create a version using \"Save & Run All\" \n",
    "# You can also write temporary files to /kaggle/temp/, but they won't be saved outside of the current session"
   ]
  },
  {
   "cell_type": "markdown",
   "id": "2e452ea5",
   "metadata": {
    "papermill": {
     "duration": 0.005346,
     "end_time": "2025-04-15T15:43:41.182562",
     "exception": false,
     "start_time": "2025-04-15T15:43:41.177216",
     "status": "completed"
    },
    "tags": []
   },
   "source": [
    "## Read the data\n"
   ]
  },
  {
   "cell_type": "code",
   "execution_count": 2,
   "id": "217f5ab8",
   "metadata": {
    "execution": {
     "iopub.execute_input": "2025-04-15T15:43:41.193432Z",
     "iopub.status.busy": "2025-04-15T15:43:41.193029Z",
     "iopub.status.idle": "2025-04-15T15:43:41.275047Z",
     "shell.execute_reply": "2025-04-15T15:43:41.273970Z"
    },
    "papermill": {
     "duration": 0.089415,
     "end_time": "2025-04-15T15:43:41.276738",
     "exception": false,
     "start_time": "2025-04-15T15:43:41.187323",
     "status": "completed"
    },
    "tags": []
   },
   "outputs": [
    {
     "data": {
      "text/plain": [
       "(7043, 20)"
      ]
     },
     "execution_count": 2,
     "metadata": {},
     "output_type": "execute_result"
    }
   ],
   "source": [
    "df = pd.read_csv(\"/kaggle/input/telco-customer-churn/WA_Fn-UseC_-Telco-Customer-Churn.csv\", index_col='customerID')\n",
    "\n",
    "df.shape"
   ]
  },
  {
   "cell_type": "code",
   "execution_count": 3,
   "id": "126db85b",
   "metadata": {
    "execution": {
     "iopub.execute_input": "2025-04-15T15:43:41.289931Z",
     "iopub.status.busy": "2025-04-15T15:43:41.289571Z",
     "iopub.status.idle": "2025-04-15T15:43:41.317714Z",
     "shell.execute_reply": "2025-04-15T15:43:41.316768Z"
    },
    "papermill": {
     "duration": 0.035563,
     "end_time": "2025-04-15T15:43:41.319308",
     "exception": false,
     "start_time": "2025-04-15T15:43:41.283745",
     "status": "completed"
    },
    "tags": []
   },
   "outputs": [
    {
     "data": {
      "text/html": [
       "<div>\n",
       "<style scoped>\n",
       "    .dataframe tbody tr th:only-of-type {\n",
       "        vertical-align: middle;\n",
       "    }\n",
       "\n",
       "    .dataframe tbody tr th {\n",
       "        vertical-align: top;\n",
       "    }\n",
       "\n",
       "    .dataframe thead th {\n",
       "        text-align: right;\n",
       "    }\n",
       "</style>\n",
       "<table border=\"1\" class=\"dataframe\">\n",
       "  <thead>\n",
       "    <tr style=\"text-align: right;\">\n",
       "      <th></th>\n",
       "      <th>gender</th>\n",
       "      <th>SeniorCitizen</th>\n",
       "      <th>Partner</th>\n",
       "      <th>Dependents</th>\n",
       "      <th>tenure</th>\n",
       "      <th>PhoneService</th>\n",
       "      <th>MultipleLines</th>\n",
       "      <th>InternetService</th>\n",
       "      <th>OnlineSecurity</th>\n",
       "      <th>OnlineBackup</th>\n",
       "      <th>DeviceProtection</th>\n",
       "      <th>TechSupport</th>\n",
       "      <th>StreamingTV</th>\n",
       "      <th>StreamingMovies</th>\n",
       "      <th>Contract</th>\n",
       "      <th>PaperlessBilling</th>\n",
       "      <th>PaymentMethod</th>\n",
       "      <th>MonthlyCharges</th>\n",
       "      <th>TotalCharges</th>\n",
       "      <th>Churn</th>\n",
       "    </tr>\n",
       "    <tr>\n",
       "      <th>customerID</th>\n",
       "      <th></th>\n",
       "      <th></th>\n",
       "      <th></th>\n",
       "      <th></th>\n",
       "      <th></th>\n",
       "      <th></th>\n",
       "      <th></th>\n",
       "      <th></th>\n",
       "      <th></th>\n",
       "      <th></th>\n",
       "      <th></th>\n",
       "      <th></th>\n",
       "      <th></th>\n",
       "      <th></th>\n",
       "      <th></th>\n",
       "      <th></th>\n",
       "      <th></th>\n",
       "      <th></th>\n",
       "      <th></th>\n",
       "      <th></th>\n",
       "    </tr>\n",
       "  </thead>\n",
       "  <tbody>\n",
       "    <tr>\n",
       "      <th>7590-VHVEG</th>\n",
       "      <td>Female</td>\n",
       "      <td>0</td>\n",
       "      <td>Yes</td>\n",
       "      <td>No</td>\n",
       "      <td>1</td>\n",
       "      <td>No</td>\n",
       "      <td>No phone service</td>\n",
       "      <td>DSL</td>\n",
       "      <td>No</td>\n",
       "      <td>Yes</td>\n",
       "      <td>No</td>\n",
       "      <td>No</td>\n",
       "      <td>No</td>\n",
       "      <td>No</td>\n",
       "      <td>Month-to-month</td>\n",
       "      <td>Yes</td>\n",
       "      <td>Electronic check</td>\n",
       "      <td>29.85</td>\n",
       "      <td>29.85</td>\n",
       "      <td>No</td>\n",
       "    </tr>\n",
       "    <tr>\n",
       "      <th>5575-GNVDE</th>\n",
       "      <td>Male</td>\n",
       "      <td>0</td>\n",
       "      <td>No</td>\n",
       "      <td>No</td>\n",
       "      <td>34</td>\n",
       "      <td>Yes</td>\n",
       "      <td>No</td>\n",
       "      <td>DSL</td>\n",
       "      <td>Yes</td>\n",
       "      <td>No</td>\n",
       "      <td>Yes</td>\n",
       "      <td>No</td>\n",
       "      <td>No</td>\n",
       "      <td>No</td>\n",
       "      <td>One year</td>\n",
       "      <td>No</td>\n",
       "      <td>Mailed check</td>\n",
       "      <td>56.95</td>\n",
       "      <td>1889.5</td>\n",
       "      <td>No</td>\n",
       "    </tr>\n",
       "    <tr>\n",
       "      <th>3668-QPYBK</th>\n",
       "      <td>Male</td>\n",
       "      <td>0</td>\n",
       "      <td>No</td>\n",
       "      <td>No</td>\n",
       "      <td>2</td>\n",
       "      <td>Yes</td>\n",
       "      <td>No</td>\n",
       "      <td>DSL</td>\n",
       "      <td>Yes</td>\n",
       "      <td>Yes</td>\n",
       "      <td>No</td>\n",
       "      <td>No</td>\n",
       "      <td>No</td>\n",
       "      <td>No</td>\n",
       "      <td>Month-to-month</td>\n",
       "      <td>Yes</td>\n",
       "      <td>Mailed check</td>\n",
       "      <td>53.85</td>\n",
       "      <td>108.15</td>\n",
       "      <td>Yes</td>\n",
       "    </tr>\n",
       "    <tr>\n",
       "      <th>7795-CFOCW</th>\n",
       "      <td>Male</td>\n",
       "      <td>0</td>\n",
       "      <td>No</td>\n",
       "      <td>No</td>\n",
       "      <td>45</td>\n",
       "      <td>No</td>\n",
       "      <td>No phone service</td>\n",
       "      <td>DSL</td>\n",
       "      <td>Yes</td>\n",
       "      <td>No</td>\n",
       "      <td>Yes</td>\n",
       "      <td>Yes</td>\n",
       "      <td>No</td>\n",
       "      <td>No</td>\n",
       "      <td>One year</td>\n",
       "      <td>No</td>\n",
       "      <td>Bank transfer (automatic)</td>\n",
       "      <td>42.30</td>\n",
       "      <td>1840.75</td>\n",
       "      <td>No</td>\n",
       "    </tr>\n",
       "    <tr>\n",
       "      <th>9237-HQITU</th>\n",
       "      <td>Female</td>\n",
       "      <td>0</td>\n",
       "      <td>No</td>\n",
       "      <td>No</td>\n",
       "      <td>2</td>\n",
       "      <td>Yes</td>\n",
       "      <td>No</td>\n",
       "      <td>Fiber optic</td>\n",
       "      <td>No</td>\n",
       "      <td>No</td>\n",
       "      <td>No</td>\n",
       "      <td>No</td>\n",
       "      <td>No</td>\n",
       "      <td>No</td>\n",
       "      <td>Month-to-month</td>\n",
       "      <td>Yes</td>\n",
       "      <td>Electronic check</td>\n",
       "      <td>70.70</td>\n",
       "      <td>151.65</td>\n",
       "      <td>Yes</td>\n",
       "    </tr>\n",
       "  </tbody>\n",
       "</table>\n",
       "</div>"
      ],
      "text/plain": [
       "            gender  SeniorCitizen Partner Dependents  tenure PhoneService  \\\n",
       "customerID                                                                  \n",
       "7590-VHVEG  Female              0     Yes         No       1           No   \n",
       "5575-GNVDE    Male              0      No         No      34          Yes   \n",
       "3668-QPYBK    Male              0      No         No       2          Yes   \n",
       "7795-CFOCW    Male              0      No         No      45           No   \n",
       "9237-HQITU  Female              0      No         No       2          Yes   \n",
       "\n",
       "               MultipleLines InternetService OnlineSecurity OnlineBackup  \\\n",
       "customerID                                                                 \n",
       "7590-VHVEG  No phone service             DSL             No          Yes   \n",
       "5575-GNVDE                No             DSL            Yes           No   \n",
       "3668-QPYBK                No             DSL            Yes          Yes   \n",
       "7795-CFOCW  No phone service             DSL            Yes           No   \n",
       "9237-HQITU                No     Fiber optic             No           No   \n",
       "\n",
       "           DeviceProtection TechSupport StreamingTV StreamingMovies  \\\n",
       "customerID                                                            \n",
       "7590-VHVEG               No          No          No              No   \n",
       "5575-GNVDE              Yes          No          No              No   \n",
       "3668-QPYBK               No          No          No              No   \n",
       "7795-CFOCW              Yes         Yes          No              No   \n",
       "9237-HQITU               No          No          No              No   \n",
       "\n",
       "                  Contract PaperlessBilling              PaymentMethod  \\\n",
       "customerID                                                               \n",
       "7590-VHVEG  Month-to-month              Yes           Electronic check   \n",
       "5575-GNVDE        One year               No               Mailed check   \n",
       "3668-QPYBK  Month-to-month              Yes               Mailed check   \n",
       "7795-CFOCW        One year               No  Bank transfer (automatic)   \n",
       "9237-HQITU  Month-to-month              Yes           Electronic check   \n",
       "\n",
       "            MonthlyCharges TotalCharges Churn  \n",
       "customerID                                     \n",
       "7590-VHVEG           29.85        29.85    No  \n",
       "5575-GNVDE           56.95       1889.5    No  \n",
       "3668-QPYBK           53.85       108.15   Yes  \n",
       "7795-CFOCW           42.30      1840.75    No  \n",
       "9237-HQITU           70.70       151.65   Yes  "
      ]
     },
     "execution_count": 3,
     "metadata": {},
     "output_type": "execute_result"
    }
   ],
   "source": [
    "df.head()"
   ]
  },
  {
   "cell_type": "code",
   "execution_count": 4,
   "id": "8a4a27fb",
   "metadata": {
    "execution": {
     "iopub.execute_input": "2025-04-15T15:43:41.331513Z",
     "iopub.status.busy": "2025-04-15T15:43:41.330836Z",
     "iopub.status.idle": "2025-04-15T15:43:41.354616Z",
     "shell.execute_reply": "2025-04-15T15:43:41.353725Z"
    },
    "papermill": {
     "duration": 0.031677,
     "end_time": "2025-04-15T15:43:41.356275",
     "exception": false,
     "start_time": "2025-04-15T15:43:41.324598",
     "status": "completed"
    },
    "tags": []
   },
   "outputs": [
    {
     "data": {
      "text/html": [
       "<div>\n",
       "<style scoped>\n",
       "    .dataframe tbody tr th:only-of-type {\n",
       "        vertical-align: middle;\n",
       "    }\n",
       "\n",
       "    .dataframe tbody tr th {\n",
       "        vertical-align: top;\n",
       "    }\n",
       "\n",
       "    .dataframe thead th {\n",
       "        text-align: right;\n",
       "    }\n",
       "</style>\n",
       "<table border=\"1\" class=\"dataframe\">\n",
       "  <thead>\n",
       "    <tr style=\"text-align: right;\">\n",
       "      <th></th>\n",
       "      <th>SeniorCitizen</th>\n",
       "      <th>tenure</th>\n",
       "      <th>MonthlyCharges</th>\n",
       "    </tr>\n",
       "  </thead>\n",
       "  <tbody>\n",
       "    <tr>\n",
       "      <th>count</th>\n",
       "      <td>7043.000000</td>\n",
       "      <td>7043.000000</td>\n",
       "      <td>7043.000000</td>\n",
       "    </tr>\n",
       "    <tr>\n",
       "      <th>mean</th>\n",
       "      <td>0.162147</td>\n",
       "      <td>32.371149</td>\n",
       "      <td>64.761692</td>\n",
       "    </tr>\n",
       "    <tr>\n",
       "      <th>std</th>\n",
       "      <td>0.368612</td>\n",
       "      <td>24.559481</td>\n",
       "      <td>30.090047</td>\n",
       "    </tr>\n",
       "    <tr>\n",
       "      <th>min</th>\n",
       "      <td>0.000000</td>\n",
       "      <td>0.000000</td>\n",
       "      <td>18.250000</td>\n",
       "    </tr>\n",
       "    <tr>\n",
       "      <th>25%</th>\n",
       "      <td>0.000000</td>\n",
       "      <td>9.000000</td>\n",
       "      <td>35.500000</td>\n",
       "    </tr>\n",
       "    <tr>\n",
       "      <th>50%</th>\n",
       "      <td>0.000000</td>\n",
       "      <td>29.000000</td>\n",
       "      <td>70.350000</td>\n",
       "    </tr>\n",
       "    <tr>\n",
       "      <th>75%</th>\n",
       "      <td>0.000000</td>\n",
       "      <td>55.000000</td>\n",
       "      <td>89.850000</td>\n",
       "    </tr>\n",
       "    <tr>\n",
       "      <th>max</th>\n",
       "      <td>1.000000</td>\n",
       "      <td>72.000000</td>\n",
       "      <td>118.750000</td>\n",
       "    </tr>\n",
       "  </tbody>\n",
       "</table>\n",
       "</div>"
      ],
      "text/plain": [
       "       SeniorCitizen       tenure  MonthlyCharges\n",
       "count    7043.000000  7043.000000     7043.000000\n",
       "mean        0.162147    32.371149       64.761692\n",
       "std         0.368612    24.559481       30.090047\n",
       "min         0.000000     0.000000       18.250000\n",
       "25%         0.000000     9.000000       35.500000\n",
       "50%         0.000000    29.000000       70.350000\n",
       "75%         0.000000    55.000000       89.850000\n",
       "max         1.000000    72.000000      118.750000"
      ]
     },
     "execution_count": 4,
     "metadata": {},
     "output_type": "execute_result"
    }
   ],
   "source": [
    "df.describe(include=['number'])"
   ]
  },
  {
   "cell_type": "code",
   "execution_count": 5,
   "id": "4fac3055",
   "metadata": {
    "execution": {
     "iopub.execute_input": "2025-04-15T15:43:41.369175Z",
     "iopub.status.busy": "2025-04-15T15:43:41.368513Z",
     "iopub.status.idle": "2025-04-15T15:43:41.422369Z",
     "shell.execute_reply": "2025-04-15T15:43:41.421262Z"
    },
    "papermill": {
     "duration": 0.062481,
     "end_time": "2025-04-15T15:43:41.424298",
     "exception": false,
     "start_time": "2025-04-15T15:43:41.361817",
     "status": "completed"
    },
    "tags": []
   },
   "outputs": [
    {
     "data": {
      "text/html": [
       "<div>\n",
       "<style scoped>\n",
       "    .dataframe tbody tr th:only-of-type {\n",
       "        vertical-align: middle;\n",
       "    }\n",
       "\n",
       "    .dataframe tbody tr th {\n",
       "        vertical-align: top;\n",
       "    }\n",
       "\n",
       "    .dataframe thead th {\n",
       "        text-align: right;\n",
       "    }\n",
       "</style>\n",
       "<table border=\"1\" class=\"dataframe\">\n",
       "  <thead>\n",
       "    <tr style=\"text-align: right;\">\n",
       "      <th></th>\n",
       "      <th>gender</th>\n",
       "      <th>Partner</th>\n",
       "      <th>Dependents</th>\n",
       "      <th>PhoneService</th>\n",
       "      <th>MultipleLines</th>\n",
       "      <th>InternetService</th>\n",
       "      <th>OnlineSecurity</th>\n",
       "      <th>OnlineBackup</th>\n",
       "      <th>DeviceProtection</th>\n",
       "      <th>TechSupport</th>\n",
       "      <th>StreamingTV</th>\n",
       "      <th>StreamingMovies</th>\n",
       "      <th>Contract</th>\n",
       "      <th>PaperlessBilling</th>\n",
       "      <th>PaymentMethod</th>\n",
       "      <th>TotalCharges</th>\n",
       "      <th>Churn</th>\n",
       "    </tr>\n",
       "  </thead>\n",
       "  <tbody>\n",
       "    <tr>\n",
       "      <th>count</th>\n",
       "      <td>7043</td>\n",
       "      <td>7043</td>\n",
       "      <td>7043</td>\n",
       "      <td>7043</td>\n",
       "      <td>7043</td>\n",
       "      <td>7043</td>\n",
       "      <td>7043</td>\n",
       "      <td>7043</td>\n",
       "      <td>7043</td>\n",
       "      <td>7043</td>\n",
       "      <td>7043</td>\n",
       "      <td>7043</td>\n",
       "      <td>7043</td>\n",
       "      <td>7043</td>\n",
       "      <td>7043</td>\n",
       "      <td>7043</td>\n",
       "      <td>7043</td>\n",
       "    </tr>\n",
       "    <tr>\n",
       "      <th>unique</th>\n",
       "      <td>2</td>\n",
       "      <td>2</td>\n",
       "      <td>2</td>\n",
       "      <td>2</td>\n",
       "      <td>3</td>\n",
       "      <td>3</td>\n",
       "      <td>3</td>\n",
       "      <td>3</td>\n",
       "      <td>3</td>\n",
       "      <td>3</td>\n",
       "      <td>3</td>\n",
       "      <td>3</td>\n",
       "      <td>3</td>\n",
       "      <td>2</td>\n",
       "      <td>4</td>\n",
       "      <td>6531</td>\n",
       "      <td>2</td>\n",
       "    </tr>\n",
       "    <tr>\n",
       "      <th>top</th>\n",
       "      <td>Male</td>\n",
       "      <td>No</td>\n",
       "      <td>No</td>\n",
       "      <td>Yes</td>\n",
       "      <td>No</td>\n",
       "      <td>Fiber optic</td>\n",
       "      <td>No</td>\n",
       "      <td>No</td>\n",
       "      <td>No</td>\n",
       "      <td>No</td>\n",
       "      <td>No</td>\n",
       "      <td>No</td>\n",
       "      <td>Month-to-month</td>\n",
       "      <td>Yes</td>\n",
       "      <td>Electronic check</td>\n",
       "      <td></td>\n",
       "      <td>No</td>\n",
       "    </tr>\n",
       "    <tr>\n",
       "      <th>freq</th>\n",
       "      <td>3555</td>\n",
       "      <td>3641</td>\n",
       "      <td>4933</td>\n",
       "      <td>6361</td>\n",
       "      <td>3390</td>\n",
       "      <td>3096</td>\n",
       "      <td>3498</td>\n",
       "      <td>3088</td>\n",
       "      <td>3095</td>\n",
       "      <td>3473</td>\n",
       "      <td>2810</td>\n",
       "      <td>2785</td>\n",
       "      <td>3875</td>\n",
       "      <td>4171</td>\n",
       "      <td>2365</td>\n",
       "      <td>11</td>\n",
       "      <td>5174</td>\n",
       "    </tr>\n",
       "  </tbody>\n",
       "</table>\n",
       "</div>"
      ],
      "text/plain": [
       "       gender Partner Dependents PhoneService MultipleLines InternetService  \\\n",
       "count    7043    7043       7043         7043          7043            7043   \n",
       "unique      2       2          2            2             3               3   \n",
       "top      Male      No         No          Yes            No     Fiber optic   \n",
       "freq     3555    3641       4933         6361          3390            3096   \n",
       "\n",
       "       OnlineSecurity OnlineBackup DeviceProtection TechSupport StreamingTV  \\\n",
       "count            7043         7043             7043        7043        7043   \n",
       "unique              3            3                3           3           3   \n",
       "top                No           No               No          No          No   \n",
       "freq             3498         3088             3095        3473        2810   \n",
       "\n",
       "       StreamingMovies        Contract PaperlessBilling     PaymentMethod  \\\n",
       "count             7043            7043             7043              7043   \n",
       "unique               3               3                2                 4   \n",
       "top                 No  Month-to-month              Yes  Electronic check   \n",
       "freq              2785            3875             4171              2365   \n",
       "\n",
       "       TotalCharges Churn  \n",
       "count          7043  7043  \n",
       "unique         6531     2  \n",
       "top                    No  \n",
       "freq             11  5174  "
      ]
     },
     "execution_count": 5,
     "metadata": {},
     "output_type": "execute_result"
    }
   ],
   "source": [
    "df.describe(include=['object'])"
   ]
  },
  {
   "cell_type": "code",
   "execution_count": 6,
   "id": "8765effc",
   "metadata": {
    "execution": {
     "iopub.execute_input": "2025-04-15T15:43:41.436626Z",
     "iopub.status.busy": "2025-04-15T15:43:41.436285Z",
     "iopub.status.idle": "2025-04-15T15:43:41.453104Z",
     "shell.execute_reply": "2025-04-15T15:43:41.452134Z"
    },
    "papermill": {
     "duration": 0.024802,
     "end_time": "2025-04-15T15:43:41.454792",
     "exception": false,
     "start_time": "2025-04-15T15:43:41.429990",
     "status": "completed"
    },
    "tags": []
   },
   "outputs": [
    {
     "data": {
      "text/plain": [
       "gender              False\n",
       "SeniorCitizen       False\n",
       "Partner             False\n",
       "Dependents          False\n",
       "tenure              False\n",
       "PhoneService        False\n",
       "MultipleLines       False\n",
       "InternetService     False\n",
       "OnlineSecurity      False\n",
       "OnlineBackup        False\n",
       "DeviceProtection    False\n",
       "TechSupport         False\n",
       "StreamingTV         False\n",
       "StreamingMovies     False\n",
       "Contract            False\n",
       "PaperlessBilling    False\n",
       "PaymentMethod       False\n",
       "MonthlyCharges      False\n",
       "TotalCharges        False\n",
       "Churn               False\n",
       "dtype: bool"
      ]
     },
     "execution_count": 6,
     "metadata": {},
     "output_type": "execute_result"
    }
   ],
   "source": [
    "df.isna().any()"
   ]
  },
  {
   "cell_type": "markdown",
   "id": "e34811a2",
   "metadata": {
    "papermill": {
     "duration": 0.005193,
     "end_time": "2025-04-15T15:43:41.465846",
     "exception": false,
     "start_time": "2025-04-15T15:43:41.460653",
     "status": "completed"
    },
    "tags": []
   },
   "source": [
    "## Let's get a better understanding to the features"
   ]
  },
  {
   "cell_type": "markdown",
   "id": "e0e92bec",
   "metadata": {
    "papermill": {
     "duration": 0.005562,
     "end_time": "2025-04-15T15:43:41.478204",
     "exception": false,
     "start_time": "2025-04-15T15:43:41.472642",
     "status": "completed"
    },
    "tags": []
   },
   "source": [
    "`customerID` : just an identifier\n",
    "\n",
    "---\n",
    "\n",
    "**`gender`** : whether the customer is male of female.\n",
    "\n",
    "**`SeniorCitizen`** : if the customer is elderly or not (1 if it is, 0 otherwise).\n",
    "\n",
    "**`Partner`** : whether the customer has partners or not.\n",
    "\n",
    "**`Dependents`** : whether the customer has dependents or not.\n",
    "\n",
    "**`tenure`** : number of months the customer has stayed with the company. (VERY IMPORTNAT).\n",
    "\n",
    "---\n",
    "\n",
    "**`MultipleLines`** : whether the customer has multiple phone lines. (VERY IMPORTANT).\n",
    "\n",
    "**`IntenetService`** : customer's intenret service provider(DSL, fiber optic, No).\n",
    "\n",
    "**`OnlineSecurity`** : whether the customer has online security add-on.\n",
    "\n",
    "**`OnlineBackup`** : whether the customer has online backup or not.\n",
    "\n",
    "**`DeviceProtection`** : whether the customer has device protection or not.\n",
    "\n",
    "---\n",
    "\n",
    "**`TechSupport`**  : whether the customer has tech support. \n",
    "\n",
    "**`StreamingTV`**  : whether the customer uses streaming TV service. \n",
    "\n",
    "**`StreamingMovies`**  : whether the customer uses streaming movies service. \n",
    "\n",
    "**`Contract`**  : Type of contract (Month-to-month, One year, Two year).\n",
    "\n",
    "---\n",
    "\n",
    "\n",
    "**`PaperlessBilling`**  : whether the customer uses paperless billing.  \n",
    "\n",
    "\n",
    "**`PaymentMethod`**  : method used to pay bills (e.g., Electronic check, Mailed check, Credit card).  \n",
    "\n",
    "\n",
    "\n",
    "**`MonthlyCharges`**  : the amount charged to the customer monthly.  \n",
    "\n",
    "\n",
    "\n",
    "**`TotalCharges`**  : total amount charged over the tenure.  \n",
    "\n",
    "\n",
    "\n",
    "**`Churn`** *(Target)*  : whether the customer churned (Yes/No).  \n"
   ]
  },
  {
   "cell_type": "code",
   "execution_count": 7,
   "id": "ba692de5",
   "metadata": {
    "execution": {
     "iopub.execute_input": "2025-04-15T15:43:41.490633Z",
     "iopub.status.busy": "2025-04-15T15:43:41.490314Z",
     "iopub.status.idle": "2025-04-15T15:43:41.771649Z",
     "shell.execute_reply": "2025-04-15T15:43:41.770786Z"
    },
    "papermill": {
     "duration": 0.289314,
     "end_time": "2025-04-15T15:43:41.773303",
     "exception": false,
     "start_time": "2025-04-15T15:43:41.483989",
     "status": "completed"
    },
    "tags": []
   },
   "outputs": [
    {
     "data": {
      "image/png": "[encoded data removed]",
      "text/plain": [
       "<Figure size 640x480 with 2 Axes>"
      ]
     },
     "metadata": {},
     "output_type": "display_data"
    }
   ],
   "source": [
    "# what is the curn rate by gender?\n",
    "import matplotlib.pyplot as plt\n",
    "\n",
    "plt.subplot(1,2,1)\n",
    "plt.pie(df['gender'].value_counts(), labels=df['gender'].value_counts().index,autopct=\"%.2f%%\", startangle=90, colors=['#52b1fa', '#f043f0'])\n",
    "plt.title(\"Males vs. Females\")\n",
    "\n",
    "#----------\n",
    "number_of_males = df.loc[(df['gender'] == 'Male') & (df['Churn'] == 'Yes'),  'Churn'].value_counts()\n",
    "males_rate = number_of_males.values / df.shape[0]\n",
    "\n",
    "males_rate = round(males_rate[0] * 100, 2)\n",
    "\n",
    "number_of_females = df.loc[(df['gender'] == 'Female') & (df['Churn'] == 'Yes'),  'Churn'].value_counts()\n",
    "females_rate = number_of_females.values / df.shape[0]\n",
    "\n",
    "females_rate = round(females_rate[0] * 100, 2)\n",
    "#----------\n",
    "mylist = [males_rate, females_rate]\n",
    "plt.subplot(1,2,2)\n",
    "plt.pie(mylist, labels=['Male', 'Female'], autopct=\"%.2f%%\", startangle=90, colors=['#52b1fa', '#f043f0'])\n",
    "plt.title(\"Males rate vs Females rate\")\n",
    "\n",
    "plt.tight_layout()\n",
    "plt.show()"
   ]
  },
  {
   "cell_type": "markdown",
   "id": "58ad7fb2",
   "metadata": {
    "papermill": {
     "duration": 0.00563,
     "end_time": "2025-04-15T15:43:41.785138",
     "exception": false,
     "start_time": "2025-04-15T15:43:41.779508",
     "status": "completed"
    },
    "tags": []
   },
   "source": [
    "this shows that the rate of churn is almost the same as the distribution of genders in the dataset."
   ]
  },
  {
   "cell_type": "code",
   "execution_count": 8,
   "id": "b4a6d856",
   "metadata": {
    "execution": {
     "iopub.execute_input": "2025-04-15T15:43:41.798158Z",
     "iopub.status.busy": "2025-04-15T15:43:41.797806Z",
     "iopub.status.idle": "2025-04-15T15:43:41.806647Z",
     "shell.execute_reply": "2025-04-15T15:43:41.805796Z"
    },
    "papermill": {
     "duration": 0.017209,
     "end_time": "2025-04-15T15:43:41.808195",
     "exception": false,
     "start_time": "2025-04-15T15:43:41.790986",
     "status": "completed"
    },
    "tags": []
   },
   "outputs": [
    {
     "data": {
      "text/plain": [
       "SeniorCitizen\n",
       "0    5901\n",
       "1    1142\n",
       "Name: count, dtype: int64"
      ]
     },
     "execution_count": 8,
     "metadata": {},
     "output_type": "execute_result"
    }
   ],
   "source": [
    "df['SeniorCitizen'].value_counts(sort=False)"
   ]
  },
  {
   "cell_type": "code",
   "execution_count": 9,
   "id": "bd4cf643",
   "metadata": {
    "execution": {
     "iopub.execute_input": "2025-04-15T15:43:41.822198Z",
     "iopub.status.busy": "2025-04-15T15:43:41.821864Z",
     "iopub.status.idle": "2025-04-15T15:43:42.142280Z",
     "shell.execute_reply": "2025-04-15T15:43:42.141186Z"
    },
    "papermill": {
     "duration": 0.329042,
     "end_time": "2025-04-15T15:43:42.143853",
     "exception": false,
     "start_time": "2025-04-15T15:43:41.814811",
     "status": "completed"
    },
    "tags": []
   },
   "outputs": [
    {
     "data": {
      "image/png": "[encoded data removed]",
      "text/plain": [
       "<Figure size 1500x500 with 2 Axes>"
      ]
     },
     "metadata": {},
     "output_type": "display_data"
    }
   ],
   "source": [
    "# Do senior citizens (elderly people) churn more than uounger customers?\n",
    "\n",
    "elderly_people = df.loc[(df['SeniorCitizen'] == 1) & (df['Churn'] == 'Yes'), ['Churn']].value_counts().values[0]\n",
    "\n",
    "younger_people = df.loc[(df['SeniorCitizen'] == 0) & (df['Churn'] == 'Yes'), ['Churn']].value_counts().values[0]\n",
    "\n",
    "plt.figure(figsize=(15,5))\n",
    "\n",
    "plt.subplot(1,2,1)\n",
    "plt.bar(x=['Non-Senior', 'Senior'], height=[younger_people, elderly_people], color=['#858782','#16f258'])\n",
    "plt.title('Non-Senior vs Senior churns')\n",
    "\n",
    "plt.subplot(1,2,2)\n",
    "plt.bar(x=['Non-Senior', 'Senior'], height=df['SeniorCitizen'].value_counts(sort=False), color=['#858782','#16f258'])\n",
    "plt.title(\"the distribution of elderly people over the dataset\")\n",
    "\n",
    "plt.tight_layout()\n",
    "plt.show()"
   ]
  },
  {
   "cell_type": "code",
   "execution_count": 10,
   "id": "72fbd336",
   "metadata": {
    "execution": {
     "iopub.execute_input": "2025-04-15T15:43:42.158793Z",
     "iopub.status.busy": "2025-04-15T15:43:42.158441Z",
     "iopub.status.idle": "2025-04-15T15:43:42.327774Z",
     "shell.execute_reply": "2025-04-15T15:43:42.326918Z"
    },
    "papermill": {
     "duration": 0.178539,
     "end_time": "2025-04-15T15:43:42.329355",
     "exception": false,
     "start_time": "2025-04-15T15:43:42.150816",
     "status": "completed"
    },
    "tags": []
   },
   "outputs": [
    {
     "data": {
      "image/png": "[encoded data removed]",
      "text/plain": [
       "<Figure size 640x480 with 1 Axes>"
      ]
     },
     "metadata": {},
     "output_type": "display_data"
    }
   ],
   "source": [
    "# what is the distribution of the tenure?\n",
    "\n",
    "plt.hist(df['tenure'], bins=8)\n",
    "plt.title(\"the distribution of the tenure (M for month)\")\n",
    "plt.xticks(range(0, 80, 10), ['0 M', '10 M', '20 M', \"30 M\", \"40 M\", \"50 M\", \"60 M\", \"70 M\"])\n",
    "plt.show()"
   ]
  },
  {
   "cell_type": "code",
   "execution_count": 11,
   "id": "d7201bdc",
   "metadata": {
    "execution": {
     "iopub.execute_input": "2025-04-15T15:43:42.344602Z",
     "iopub.status.busy": "2025-04-15T15:43:42.344116Z",
     "iopub.status.idle": "2025-04-15T15:43:44.426879Z",
     "shell.execute_reply": "2025-04-15T15:43:44.425981Z"
    },
    "papermill": {
     "duration": 2.092137,
     "end_time": "2025-04-15T15:43:44.428482",
     "exception": false,
     "start_time": "2025-04-15T15:43:42.336345",
     "status": "completed"
    },
    "tags": []
   },
   "outputs": [
    {
     "data": {
      "image/png": "[encoded data removed]",
      "text/plain": [
       "<Figure size 640x480 with 1 Axes>"
      ]
     },
     "metadata": {},
     "output_type": "display_data"
    }
   ],
   "source": [
    "import seaborn as sns\n",
    "\n",
    "sns.barplot(data=df, x='Churn', y='tenure', palette='Set2', errorbar=None)\n",
    "plt.show()"
   ]
  },
  {
   "cell_type": "code",
   "execution_count": 12,
   "id": "e1705a61",
   "metadata": {
    "execution": {
     "iopub.execute_input": "2025-04-15T15:43:44.445180Z",
     "iopub.status.busy": "2025-04-15T15:43:44.444285Z",
     "iopub.status.idle": "2025-04-15T15:43:44.598821Z",
     "shell.execute_reply": "2025-04-15T15:43:44.597589Z"
    },
    "papermill": {
     "duration": 0.164266,
     "end_time": "2025-04-15T15:43:44.600523",
     "exception": false,
     "start_time": "2025-04-15T15:43:44.436257",
     "status": "completed"
    },
    "tags": []
   },
   "outputs": [
    {
     "data": {
      "image/png": "[encoded data removed]",
      "text/plain": [
       "<Figure size 640x480 with 1 Axes>"
      ]
     },
     "metadata": {},
     "output_type": "display_data"
    }
   ],
   "source": [
    "# box-plot of monthly charges vs churn\n",
    "\n",
    "\n",
    "\n",
    "sns.boxplot(x=df['Churn'], y=df['MonthlyCharges'])\n",
    "plt.title(\"Monthly Charges vs. Churn\")\n",
    "plt.show()"
   ]
  },
  {
   "cell_type": "code",
   "execution_count": 13,
   "id": "bfdb3dbb",
   "metadata": {
    "execution": {
     "iopub.execute_input": "2025-04-15T15:43:44.617059Z",
     "iopub.status.busy": "2025-04-15T15:43:44.616695Z",
     "iopub.status.idle": "2025-04-15T15:43:44.750975Z",
     "shell.execute_reply": "2025-04-15T15:43:44.749991Z"
    },
    "papermill": {
     "duration": 0.144378,
     "end_time": "2025-04-15T15:43:44.752501",
     "exception": false,
     "start_time": "2025-04-15T15:43:44.608123",
     "status": "completed"
    },
    "tags": []
   },
   "outputs": [
    {
     "data": {
      "image/png": "[encoded data removed]",
      "text/plain": [
       "<Figure size 640x480 with 1 Axes>"
      ]
     },
     "metadata": {},
     "output_type": "display_data"
    }
   ],
   "source": [
    "# Are customers with online security, tech support, or device protection less likely to churn?\n",
    "\n",
    "filteration_with_yes = ((df['OnlineBackup'] == 'Yes') | \\\n",
    "                        (df['OnlineSecurity'] == 'Yes') | \\\n",
    "                        (df['TechSupport'] == 'Yes') | \\\n",
    "                        (df['DeviceProtection'] == 'Yes'))\n",
    "\n",
    "result = df.loc[filteration_with_yes, ['Churn']].value_counts()\n",
    "\n",
    "plt.bar(x=['No', 'Yes'], height=result, color=['#17e63d', '#eb1e41'])\n",
    "plt.title(\"Add-on services vs. Churn\")\n",
    "plt.show()"
   ]
  },
  {
   "cell_type": "markdown",
   "id": "542563d3",
   "metadata": {
    "papermill": {
     "duration": 0.008197,
     "end_time": "2025-04-15T15:43:44.768532",
     "exception": false,
     "start_time": "2025-04-15T15:43:44.760335",
     "status": "completed"
    },
    "tags": []
   },
   "source": [
    "it seems that most people who have at least one add-on service are most likely to not churn"
   ]
  },
  {
   "cell_type": "markdown",
   "id": "a38f3f46",
   "metadata": {
    "papermill": {
     "duration": 0.007753,
     "end_time": "2025-04-15T15:43:44.784292",
     "exception": false,
     "start_time": "2025-04-15T15:43:44.776539",
     "status": "completed"
    },
    "tags": []
   },
   "source": [
    "## Data Preprocessing"
   ]
  },
  {
   "cell_type": "code",
   "execution_count": 14,
   "id": "77cc1d70",
   "metadata": {
    "execution": {
     "iopub.execute_input": "2025-04-15T15:43:44.801461Z",
     "iopub.status.busy": "2025-04-15T15:43:44.801146Z",
     "iopub.status.idle": "2025-04-15T15:43:45.016271Z",
     "shell.execute_reply": "2025-04-15T15:43:45.015306Z"
    },
    "papermill": {
     "duration": 0.225889,
     "end_time": "2025-04-15T15:43:45.018093",
     "exception": false,
     "start_time": "2025-04-15T15:43:44.792204",
     "status": "completed"
    },
    "tags": []
   },
   "outputs": [],
   "source": [
    "from sklearn.preprocessing import LabelEncoder\n",
    "\n",
    "le = LabelEncoder()\n",
    "\n",
    "for column in df.select_dtypes(include=['object']):\n",
    "    df[column] = le.fit_transform(df[column])"
   ]
  },
  {
   "cell_type": "code",
   "execution_count": 15,
   "id": "ddca5e96",
   "metadata": {
    "execution": {
     "iopub.execute_input": "2025-04-15T15:43:45.035216Z",
     "iopub.status.busy": "2025-04-15T15:43:45.034887Z",
     "iopub.status.idle": "2025-04-15T15:43:45.049593Z",
     "shell.execute_reply": "2025-04-15T15:43:45.048733Z"
    },
    "papermill": {
     "duration": 0.025138,
     "end_time": "2025-04-15T15:43:45.051218",
     "exception": false,
     "start_time": "2025-04-15T15:43:45.026080",
     "status": "completed"
    },
    "tags": []
   },
   "outputs": [
    {
     "data": {
      "text/html": [
       "<div>\n",
       "<style scoped>\n",
       "    .dataframe tbody tr th:only-of-type {\n",
       "        vertical-align: middle;\n",
       "    }\n",
       "\n",
       "    .dataframe tbody tr th {\n",
       "        vertical-align: top;\n",
       "    }\n",
       "\n",
       "    .dataframe thead th {\n",
       "        text-align: right;\n",
       "    }\n",
       "</style>\n",
       "<table border=\"1\" class=\"dataframe\">\n",
       "  <thead>\n",
       "    <tr style=\"text-align: right;\">\n",
       "      <th></th>\n",
       "      <th>gender</th>\n",
       "      <th>SeniorCitizen</th>\n",
       "      <th>Partner</th>\n",
       "      <th>Dependents</th>\n",
       "      <th>tenure</th>\n",
       "      <th>PhoneService</th>\n",
       "      <th>MultipleLines</th>\n",
       "      <th>InternetService</th>\n",
       "      <th>OnlineSecurity</th>\n",
       "      <th>OnlineBackup</th>\n",
       "      <th>DeviceProtection</th>\n",
       "      <th>TechSupport</th>\n",
       "      <th>StreamingTV</th>\n",
       "      <th>StreamingMovies</th>\n",
       "      <th>Contract</th>\n",
       "      <th>PaperlessBilling</th>\n",
       "      <th>PaymentMethod</th>\n",
       "      <th>MonthlyCharges</th>\n",
       "      <th>TotalCharges</th>\n",
       "      <th>Churn</th>\n",
       "    </tr>\n",
       "    <tr>\n",
       "      <th>customerID</th>\n",
       "      <th></th>\n",
       "      <th></th>\n",
       "      <th></th>\n",
       "      <th></th>\n",
       "      <th></th>\n",
       "      <th></th>\n",
       "      <th></th>\n",
       "      <th></th>\n",
       "      <th></th>\n",
       "      <th></th>\n",
       "      <th></th>\n",
       "      <th></th>\n",
       "      <th></th>\n",
       "      <th></th>\n",
       "      <th></th>\n",
       "      <th></th>\n",
       "      <th></th>\n",
       "      <th></th>\n",
       "      <th></th>\n",
       "      <th></th>\n",
       "    </tr>\n",
       "  </thead>\n",
       "  <tbody>\n",
       "    <tr>\n",
       "      <th>7590-VHVEG</th>\n",
       "      <td>0</td>\n",
       "      <td>0</td>\n",
       "      <td>1</td>\n",
       "      <td>0</td>\n",
       "      <td>1</td>\n",
       "      <td>0</td>\n",
       "      <td>1</td>\n",
       "      <td>0</td>\n",
       "      <td>0</td>\n",
       "      <td>2</td>\n",
       "      <td>0</td>\n",
       "      <td>0</td>\n",
       "      <td>0</td>\n",
       "      <td>0</td>\n",
       "      <td>0</td>\n",
       "      <td>1</td>\n",
       "      <td>2</td>\n",
       "      <td>29.85</td>\n",
       "      <td>2505</td>\n",
       "      <td>0</td>\n",
       "    </tr>\n",
       "    <tr>\n",
       "      <th>5575-GNVDE</th>\n",
       "      <td>1</td>\n",
       "      <td>0</td>\n",
       "      <td>0</td>\n",
       "      <td>0</td>\n",
       "      <td>34</td>\n",
       "      <td>1</td>\n",
       "      <td>0</td>\n",
       "      <td>0</td>\n",
       "      <td>2</td>\n",
       "      <td>0</td>\n",
       "      <td>2</td>\n",
       "      <td>0</td>\n",
       "      <td>0</td>\n",
       "      <td>0</td>\n",
       "      <td>1</td>\n",
       "      <td>0</td>\n",
       "      <td>3</td>\n",
       "      <td>56.95</td>\n",
       "      <td>1466</td>\n",
       "      <td>0</td>\n",
       "    </tr>\n",
       "    <tr>\n",
       "      <th>3668-QPYBK</th>\n",
       "      <td>1</td>\n",
       "      <td>0</td>\n",
       "      <td>0</td>\n",
       "      <td>0</td>\n",
       "      <td>2</td>\n",
       "      <td>1</td>\n",
       "      <td>0</td>\n",
       "      <td>0</td>\n",
       "      <td>2</td>\n",
       "      <td>2</td>\n",
       "      <td>0</td>\n",
       "      <td>0</td>\n",
       "      <td>0</td>\n",
       "      <td>0</td>\n",
       "      <td>0</td>\n",
       "      <td>1</td>\n",
       "      <td>3</td>\n",
       "      <td>53.85</td>\n",
       "      <td>157</td>\n",
       "      <td>1</td>\n",
       "    </tr>\n",
       "    <tr>\n",
       "      <th>7795-CFOCW</th>\n",
       "      <td>1</td>\n",
       "      <td>0</td>\n",
       "      <td>0</td>\n",
       "      <td>0</td>\n",
       "      <td>45</td>\n",
       "      <td>0</td>\n",
       "      <td>1</td>\n",
       "      <td>0</td>\n",
       "      <td>2</td>\n",
       "      <td>0</td>\n",
       "      <td>2</td>\n",
       "      <td>2</td>\n",
       "      <td>0</td>\n",
       "      <td>0</td>\n",
       "      <td>1</td>\n",
       "      <td>0</td>\n",
       "      <td>0</td>\n",
       "      <td>42.30</td>\n",
       "      <td>1400</td>\n",
       "      <td>0</td>\n",
       "    </tr>\n",
       "    <tr>\n",
       "      <th>9237-HQITU</th>\n",
       "      <td>0</td>\n",
       "      <td>0</td>\n",
       "      <td>0</td>\n",
       "      <td>0</td>\n",
       "      <td>2</td>\n",
       "      <td>1</td>\n",
       "      <td>0</td>\n",
       "      <td>1</td>\n",
       "      <td>0</td>\n",
       "      <td>0</td>\n",
       "      <td>0</td>\n",
       "      <td>0</td>\n",
       "      <td>0</td>\n",
       "      <td>0</td>\n",
       "      <td>0</td>\n",
       "      <td>1</td>\n",
       "      <td>2</td>\n",
       "      <td>70.70</td>\n",
       "      <td>925</td>\n",
       "      <td>1</td>\n",
       "    </tr>\n",
       "  </tbody>\n",
       "</table>\n",
       "</div>"
      ],
      "text/plain": [
       "            gender  SeniorCitizen  Partner  Dependents  tenure  PhoneService  \\\n",
       "customerID                                                                     \n",
       "7590-VHVEG       0              0        1           0       1             0   \n",
       "5575-GNVDE       1              0        0           0      34             1   \n",
       "3668-QPYBK       1              0        0           0       2             1   \n",
       "7795-CFOCW       1              0        0           0      45             0   \n",
       "9237-HQITU       0              0        0           0       2             1   \n",
       "\n",
       "            MultipleLines  InternetService  OnlineSecurity  OnlineBackup  \\\n",
       "customerID                                                                 \n",
       "7590-VHVEG              1                0               0             2   \n",
       "5575-GNVDE              0                0               2             0   \n",
       "3668-QPYBK              0                0               2             2   \n",
       "7795-CFOCW              1                0               2             0   \n",
       "9237-HQITU              0                1               0             0   \n",
       "\n",
       "            DeviceProtection  TechSupport  StreamingTV  StreamingMovies  \\\n",
       "customerID                                                                \n",
       "7590-VHVEG                 0            0            0                0   \n",
       "5575-GNVDE                 2            0            0                0   \n",
       "3668-QPYBK                 0            0            0                0   \n",
       "7795-CFOCW                 2            2            0                0   \n",
       "9237-HQITU                 0            0            0                0   \n",
       "\n",
       "            Contract  PaperlessBilling  PaymentMethod  MonthlyCharges  \\\n",
       "customerID                                                              \n",
       "7590-VHVEG         0                 1              2           29.85   \n",
       "5575-GNVDE         1                 0              3           56.95   \n",
       "3668-QPYBK         0                 1              3           53.85   \n",
       "7795-CFOCW         1                 0              0           42.30   \n",
       "9237-HQITU         0                 1              2           70.70   \n",
       "\n",
       "            TotalCharges  Churn  \n",
       "customerID                       \n",
       "7590-VHVEG          2505      0  \n",
       "5575-GNVDE          1466      0  \n",
       "3668-QPYBK           157      1  \n",
       "7795-CFOCW          1400      0  \n",
       "9237-HQITU           925      1  "
      ]
     },
     "execution_count": 15,
     "metadata": {},
     "output_type": "execute_result"
    }
   ],
   "source": [
    "df.head()"
   ]
  },
  {
   "cell_type": "code",
   "execution_count": 16,
   "id": "1857f904",
   "metadata": {
    "execution": {
     "iopub.execute_input": "2025-04-15T15:43:45.069321Z",
     "iopub.status.busy": "2025-04-15T15:43:45.068974Z",
     "iopub.status.idle": "2025-04-15T15:43:45.201204Z",
     "shell.execute_reply": "2025-04-15T15:43:45.200053Z"
    },
    "papermill": {
     "duration": 0.143326,
     "end_time": "2025-04-15T15:43:45.202883",
     "exception": false,
     "start_time": "2025-04-15T15:43:45.059557",
     "status": "completed"
    },
    "tags": []
   },
   "outputs": [
    {
     "name": "stdout",
     "output_type": "stream",
     "text": [
      "(5986, 19)\n",
      "(1057, 19)\n",
      "(5986,)\n",
      "(1057,)\n"
     ]
    }
   ],
   "source": [
    "from sklearn.model_selection import train_test_split\n",
    "\n",
    "y = df['Churn']\n",
    "X = df.drop('Churn', axis=1)\n",
    "\n",
    "X_train, X_test, y_train, y_test = train_test_split(X, y, test_size=0.15, random_state=32)\n",
    "\n",
    "print(X_train.shape)\n",
    "print(X_test.shape)\n",
    "print(y_train.shape)\n",
    "print(y_test.shape)"
   ]
  },
  {
   "cell_type": "code",
   "execution_count": 17,
   "id": "33e80711",
   "metadata": {
    "execution": {
     "iopub.execute_input": "2025-04-15T15:43:45.220279Z",
     "iopub.status.busy": "2025-04-15T15:43:45.219933Z",
     "iopub.status.idle": "2025-04-15T15:43:52.448844Z",
     "shell.execute_reply": "2025-04-15T15:43:52.447802Z"
    },
    "papermill": {
     "duration": 7.245061,
     "end_time": "2025-04-15T15:43:52.456060",
     "exception": false,
     "start_time": "2025-04-15T15:43:45.210999",
     "status": "completed"
    },
    "tags": []
   },
   "outputs": [
    {
     "data": {
      "text/html": [
       "<style>#sk-container-id-1 {color: black;background-color: white;}#sk-container-id-1 pre{padding: 0;}#sk-container-id-1 div.sk-toggleable {background-color: white;}#sk-container-id-1 label.sk-toggleable__label {cursor: pointer;display: block;width: 100%;margin-bottom: 0;padding: 0.3em;box-sizing: border-box;text-align: center;}#sk-container-id-1 label.sk-toggleable__label-arrow:before {content: \"▸\";float: left;margin-right: 0.25em;color: #696969;}#sk-container-id-1 label.sk-toggleable__label-arrow:hover:before {color: black;}#sk-container-id-1 div.sk-estimator:hover label.sk-toggleable__label-arrow:before {color: black;}#sk-container-id-1 div.sk-toggleable__content {max-height: 0;max-width: 0;overflow: hidden;text-align: left;background-color: #f0f8ff;}#sk-container-id-1 div.sk-toggleable__content pre {margin: 0.2em;color: black;border-radius: 0.25em;background-color: #f0f8ff;}#sk-container-id-1 input.sk-toggleable__control:checked~div.sk-toggleable__content {max-height: 200px;max-width: 100%;overflow: auto;}#sk-container-id-1 input.sk-toggleable__control:checked~label.sk-toggleable__label-arrow:before {content: \"▾\";}#sk-container-id-1 div.sk-estimator input.sk-toggleable__control:checked~label.sk-toggleable__label {background-color: #d4ebff;}#sk-container-id-1 div.sk-label input.sk-toggleable__control:checked~label.sk-toggleable__label {background-color: #d4ebff;}#sk-container-id-1 input.sk-hidden--visually {border: 0;clip: rect(1px 1px 1px 1px);clip: rect(1px, 1px, 1px, 1px);height: 1px;margin: -1px;overflow: hidden;padding: 0;position: absolute;width: 1px;}#sk-container-id-1 div.sk-estimator {font-family: monospace;background-color: #f0f8ff;border: 1px dotted black;border-radius: 0.25em;box-sizing: border-box;margin-bottom: 0.5em;}#sk-container-id-1 div.sk-estimator:hover {background-color: #d4ebff;}#sk-container-id-1 div.sk-parallel-item::after {content: \"\";width: 100%;border-bottom: 1px solid gray;flex-grow: 1;}#sk-container-id-1 div.sk-label:hover label.sk-toggleable__label {background-color: #d4ebff;}#sk-container-id-1 div.sk-serial::before {content: \"\";position: absolute;border-left: 1px solid gray;box-sizing: border-box;top: 0;bottom: 0;left: 50%;z-index: 0;}#sk-container-id-1 div.sk-serial {display: flex;flex-direction: column;align-items: center;background-color: white;padding-right: 0.2em;padding-left: 0.2em;position: relative;}#sk-container-id-1 div.sk-item {position: relative;z-index: 1;}#sk-container-id-1 div.sk-parallel {display: flex;align-items: stretch;justify-content: center;background-color: white;position: relative;}#sk-container-id-1 div.sk-item::before, #sk-container-id-1 div.sk-parallel-item::before {content: \"\";position: absolute;border-left: 1px solid gray;box-sizing: border-box;top: 0;bottom: 0;left: 50%;z-index: -1;}#sk-container-id-1 div.sk-parallel-item {display: flex;flex-direction: column;z-index: 1;position: relative;background-color: white;}#sk-container-id-1 div.sk-parallel-item:first-child::after {align-self: flex-end;width: 50%;}#sk-container-id-1 div.sk-parallel-item:last-child::after {align-self: flex-start;width: 50%;}#sk-container-id-1 div.sk-parallel-item:only-child::after {width: 0;}#sk-container-id-1 div.sk-dashed-wrapped {border: 1px dashed gray;margin: 0 0.4em 0.5em 0.4em;box-sizing: border-box;padding-bottom: 0.4em;background-color: white;}#sk-container-id-1 div.sk-label label {font-family: monospace;font-weight: bold;display: inline-block;line-height: 1.2em;}#sk-container-id-1 div.sk-label-container {text-align: center;}#sk-container-id-1 div.sk-container {/* jupyter's `normalize.less` sets `[hidden] { display: none; }` but bootstrap.min.css set `[hidden] { display: none !important; }` so we also need the `!important` here to be able to override the default hidden behavior on the sphinx rendered scikit-learn.org. See: https://github.com/scikit-learn/scikit-learn/issues/21755 */display: inline-block !important;position: relative;}#sk-container-id-1 div.sk-text-repr-fallback {display: none;}</style><div id=\"sk-container-id-1\" class=\"sk-top-container\"><div class=\"sk-text-repr-fallback\"><pre>RFECV(estimator=LogisticRegression(max_iter=1000), min_features_to_select=8,\n",
       "      n_jobs=-1)</pre><b>In a Jupyter environment, please rerun this cell to show the HTML representation or trust the notebook. <br />On GitHub, the HTML representation is unable to render, please try loading this page with nbviewer.org.</b></div><div class=\"sk-container\" hidden><div class=\"sk-item sk-dashed-wrapped\"><div class=\"sk-label-container\"><div class=\"sk-label sk-toggleable\"><input class=\"sk-toggleable__control sk-hidden--visually\" id=\"sk-estimator-id-1\" type=\"checkbox\" ><label for=\"sk-estimator-id-1\" class=\"sk-toggleable__label sk-toggleable__label-arrow\">RFECV</label><div class=\"sk-toggleable__content\"><pre>RFECV(estimator=LogisticRegression(max_iter=1000), min_features_to_select=8,\n",
       "      n_jobs=-1)</pre></div></div></div><div class=\"sk-parallel\"><div class=\"sk-parallel-item\"><div class=\"sk-item\"><div class=\"sk-label-container\"><div class=\"sk-label sk-toggleable\"><input class=\"sk-toggleable__control sk-hidden--visually\" id=\"sk-estimator-id-2\" type=\"checkbox\" ><label for=\"sk-estimator-id-2\" class=\"sk-toggleable__label sk-toggleable__label-arrow\">estimator: LogisticRegression</label><div class=\"sk-toggleable__content\"><pre>LogisticRegression(max_iter=1000)</pre></div></div></div><div class=\"sk-serial\"><div class=\"sk-item\"><div class=\"sk-estimator sk-toggleable\"><input class=\"sk-toggleable__control sk-hidden--visually\" id=\"sk-estimator-id-3\" type=\"checkbox\" ><label for=\"sk-estimator-id-3\" class=\"sk-toggleable__label sk-toggleable__label-arrow\">LogisticRegression</label><div class=\"sk-toggleable__content\"><pre>LogisticRegression(max_iter=1000)</pre></div></div></div></div></div></div></div></div></div></div>"
      ],
      "text/plain": [
       "RFECV(estimator=LogisticRegression(max_iter=1000), min_features_to_select=8,\n",
       "      n_jobs=-1)"
      ]
     },
     "execution_count": 17,
     "metadata": {},
     "output_type": "execute_result"
    }
   ],
   "source": [
    "from sklearn.linear_model import LogisticRegression\n",
    "from sklearn.feature_selection import RFECV\n",
    "\n",
    "model = LogisticRegression(max_iter=1000)\n",
    "rfecv = RFECV(model , step = 1, min_features_to_select = 8 , n_jobs = -1)\n",
    "rfecv.fit(X_train , y_train)"
   ]
  },
  {
   "cell_type": "code",
   "execution_count": 18,
   "id": "bba01436",
   "metadata": {
    "execution": {
     "iopub.execute_input": "2025-04-15T15:43:52.495425Z",
     "iopub.status.busy": "2025-04-15T15:43:52.493621Z",
     "iopub.status.idle": "2025-04-15T15:43:52.503114Z",
     "shell.execute_reply": "2025-04-15T15:43:52.502124Z"
    },
    "papermill": {
     "duration": 0.033431,
     "end_time": "2025-04-15T15:43:52.507155",
     "exception": false,
     "start_time": "2025-04-15T15:43:52.473724",
     "status": "completed"
    },
    "tags": []
   },
   "outputs": [
    {
     "data": {
      "text/plain": [
       "array([ True,  True,  True,  True,  True,  True,  True,  True,  True,\n",
       "        True,  True,  True,  True,  True,  True,  True,  True,  True,\n",
       "       False])"
      ]
     },
     "execution_count": 18,
     "metadata": {},
     "output_type": "execute_result"
    }
   ],
   "source": [
    "rfecv.support_"
   ]
  },
  {
   "cell_type": "code",
   "execution_count": 19,
   "id": "fe19eead",
   "metadata": {
    "execution": {
     "iopub.execute_input": "2025-04-15T15:43:52.537916Z",
     "iopub.status.busy": "2025-04-15T15:43:52.537580Z",
     "iopub.status.idle": "2025-04-15T15:43:52.547041Z",
     "shell.execute_reply": "2025-04-15T15:43:52.545823Z"
    },
    "papermill": {
     "duration": 0.027374,
     "end_time": "2025-04-15T15:43:52.549255",
     "exception": false,
     "start_time": "2025-04-15T15:43:52.521881",
     "status": "completed"
    },
    "tags": []
   },
   "outputs": [],
   "source": [
    "selected_features = np.where(rfecv.support_)[0]\n",
    "X_train = X_train.iloc[:, selected_features]\n",
    "X_test = X_test.iloc[:, selected_features]"
   ]
  },
  {
   "cell_type": "code",
   "execution_count": 20,
   "id": "b75c5880",
   "metadata": {
    "execution": {
     "iopub.execute_input": "2025-04-15T15:43:52.579813Z",
     "iopub.status.busy": "2025-04-15T15:43:52.579340Z",
     "iopub.status.idle": "2025-04-15T15:43:53.817782Z",
     "shell.execute_reply": "2025-04-15T15:43:53.816952Z"
    },
    "papermill": {
     "duration": 1.255699,
     "end_time": "2025-04-15T15:43:53.819265",
     "exception": false,
     "start_time": "2025-04-15T15:43:52.563566",
     "status": "completed"
    },
    "tags": []
   },
   "outputs": [
    {
     "data": {
      "text/html": [
       "<style>#sk-container-id-2 {color: black;background-color: white;}#sk-container-id-2 pre{padding: 0;}#sk-container-id-2 div.sk-toggleable {background-color: white;}#sk-container-id-2 label.sk-toggleable__label {cursor: pointer;display: block;width: 100%;margin-bottom: 0;padding: 0.3em;box-sizing: border-box;text-align: center;}#sk-container-id-2 label.sk-toggleable__label-arrow:before {content: \"▸\";float: left;margin-right: 0.25em;color: #696969;}#sk-container-id-2 label.sk-toggleable__label-arrow:hover:before {color: black;}#sk-container-id-2 div.sk-estimator:hover label.sk-toggleable__label-arrow:before {color: black;}#sk-container-id-2 div.sk-toggleable__content {max-height: 0;max-width: 0;overflow: hidden;text-align: left;background-color: #f0f8ff;}#sk-container-id-2 div.sk-toggleable__content pre {margin: 0.2em;color: black;border-radius: 0.25em;background-color: #f0f8ff;}#sk-container-id-2 input.sk-toggleable__control:checked~div.sk-toggleable__content {max-height: 200px;max-width: 100%;overflow: auto;}#sk-container-id-2 input.sk-toggleable__control:checked~label.sk-toggleable__label-arrow:before {content: \"▾\";}#sk-container-id-2 div.sk-estimator input.sk-toggleable__control:checked~label.sk-toggleable__label {background-color: #d4ebff;}#sk-container-id-2 div.sk-label input.sk-toggleable__control:checked~label.sk-toggleable__label {background-color: #d4ebff;}#sk-container-id-2 input.sk-hidden--visually {border: 0;clip: rect(1px 1px 1px 1px);clip: rect(1px, 1px, 1px, 1px);height: 1px;margin: -1px;overflow: hidden;padding: 0;position: absolute;width: 1px;}#sk-container-id-2 div.sk-estimator {font-family: monospace;background-color: #f0f8ff;border: 1px dotted black;border-radius: 0.25em;box-sizing: border-box;margin-bottom: 0.5em;}#sk-container-id-2 div.sk-estimator:hover {background-color: #d4ebff;}#sk-container-id-2 div.sk-parallel-item::after {content: \"\";width: 100%;border-bottom: 1px solid gray;flex-grow: 1;}#sk-container-id-2 div.sk-label:hover label.sk-toggleable__label {background-color: #d4ebff;}#sk-container-id-2 div.sk-serial::before {content: \"\";position: absolute;border-left: 1px solid gray;box-sizing: border-box;top: 0;bottom: 0;left: 50%;z-index: 0;}#sk-container-id-2 div.sk-serial {display: flex;flex-direction: column;align-items: center;background-color: white;padding-right: 0.2em;padding-left: 0.2em;position: relative;}#sk-container-id-2 div.sk-item {position: relative;z-index: 1;}#sk-container-id-2 div.sk-parallel {display: flex;align-items: stretch;justify-content: center;background-color: white;position: relative;}#sk-container-id-2 div.sk-item::before, #sk-container-id-2 div.sk-parallel-item::before {content: \"\";position: absolute;border-left: 1px solid gray;box-sizing: border-box;top: 0;bottom: 0;left: 50%;z-index: -1;}#sk-container-id-2 div.sk-parallel-item {display: flex;flex-direction: column;z-index: 1;position: relative;background-color: white;}#sk-container-id-2 div.sk-parallel-item:first-child::after {align-self: flex-end;width: 50%;}#sk-container-id-2 div.sk-parallel-item:last-child::after {align-self: flex-start;width: 50%;}#sk-container-id-2 div.sk-parallel-item:only-child::after {width: 0;}#sk-container-id-2 div.sk-dashed-wrapped {border: 1px dashed gray;margin: 0 0.4em 0.5em 0.4em;box-sizing: border-box;padding-bottom: 0.4em;background-color: white;}#sk-container-id-2 div.sk-label label {font-family: monospace;font-weight: bold;display: inline-block;line-height: 1.2em;}#sk-container-id-2 div.sk-label-container {text-align: center;}#sk-container-id-2 div.sk-container {/* jupyter's `normalize.less` sets `[hidden] { display: none; }` but bootstrap.min.css set `[hidden] { display: none !important; }` so we also need the `!important` here to be able to override the default hidden behavior on the sphinx rendered scikit-learn.org. See: https://github.com/scikit-learn/scikit-learn/issues/21755 */display: inline-block !important;position: relative;}#sk-container-id-2 div.sk-text-repr-fallback {display: none;}</style><div id=\"sk-container-id-2\" class=\"sk-top-container\"><div class=\"sk-text-repr-fallback\"><pre>RandomForestClassifier(n_estimators=150)</pre><b>In a Jupyter environment, please rerun this cell to show the HTML representation or trust the notebook. <br />On GitHub, the HTML representation is unable to render, please try loading this page with nbviewer.org.</b></div><div class=\"sk-container\" hidden><div class=\"sk-item\"><div class=\"sk-estimator sk-toggleable\"><input class=\"sk-toggleable__control sk-hidden--visually\" id=\"sk-estimator-id-4\" type=\"checkbox\" checked><label for=\"sk-estimator-id-4\" class=\"sk-toggleable__label sk-toggleable__label-arrow\">RandomForestClassifier</label><div class=\"sk-toggleable__content\"><pre>RandomForestClassifier(n_estimators=150)</pre></div></div></div></div></div>"
      ],
      "text/plain": [
       "RandomForestClassifier(n_estimators=150)"
      ]
     },
     "execution_count": 20,
     "metadata": {},
     "output_type": "execute_result"
    }
   ],
   "source": [
    "from sklearn.ensemble import RandomForestClassifier\n",
    "\n",
    "rf = RandomForestClassifier(n_estimators=150)\n",
    "\n",
    "rf.fit(X_train, y_train)"
   ]
  },
  {
   "cell_type": "code",
   "execution_count": 21,
   "id": "66c1d37c",
   "metadata": {
    "execution": {
     "iopub.execute_input": "2025-04-15T15:43:53.839234Z",
     "iopub.status.busy": "2025-04-15T15:43:53.838914Z",
     "iopub.status.idle": "2025-04-15T15:43:53.887895Z",
     "shell.execute_reply": "2025-04-15T15:43:53.886763Z"
    },
    "papermill": {
     "duration": 0.060427,
     "end_time": "2025-04-15T15:43:53.889368",
     "exception": false,
     "start_time": "2025-04-15T15:43:53.828941",
     "status": "completed"
    },
    "tags": []
   },
   "outputs": [
    {
     "name": "stdout",
     "output_type": "stream",
     "text": [
      "the accuracy of the radnom forest model is: 0.771996215704825\n"
     ]
    }
   ],
   "source": [
    "from sklearn.metrics import accuracy_score\n",
    "\n",
    "y_pred = rf.predict(X_test)\n",
    "\n",
    "accuracy = accuracy_score(y_test, y_pred)\n",
    "\n",
    "print(f\"the accuracy of the radnom forest model is: {accuracy}\")"
   ]
  },
  {
   "cell_type": "code",
   "execution_count": 22,
   "id": "856ea0eb",
   "metadata": {
    "execution": {
     "iopub.execute_input": "2025-04-15T15:43:53.908440Z",
     "iopub.status.busy": "2025-04-15T15:43:53.908116Z",
     "iopub.status.idle": "2025-04-15T15:43:53.999413Z",
     "shell.execute_reply": "2025-04-15T15:43:53.998456Z"
    },
    "papermill": {
     "duration": 0.102873,
     "end_time": "2025-04-15T15:43:54.001092",
     "exception": false,
     "start_time": "2025-04-15T15:43:53.898219",
     "status": "completed"
    },
    "tags": []
   },
   "outputs": [
    {
     "data": {
      "text/plain": [
       "['random_forest_model.pkl']"
      ]
     },
     "execution_count": 22,
     "metadata": {},
     "output_type": "execute_result"
    }
   ],
   "source": [
    "import joblib\n",
    "\n",
    "joblib.dump(rf, 'random_forest_model.pkl')"
   ]
  }
 ],
 "metadata": {
  "kaggle": {
   "accelerator": "none",
   "dataSources": [
    {
     "datasetId": 13996,
     "sourceId": 18858,
     "sourceType": "datasetVersion"
    }
   ],
   "dockerImageVersionId": 31012,
   "isGpuEnabled": false,
   "isInternetEnabled": true,
   "language": "python",
   "sourceType": "notebook"
  },
  "kernelspec": {
   "display_name": "Python 3",
   "language": "python",
   "name": "python3"
  },
  "language_info": {
   "codemirror_mode": {
    "name": "ipython",
    "version": 3
   },
   "file_extension": ".py",
   "mimetype": "text/x-python",
   "name": "python",
   "nbconvert_exporter": "python",
   "pygments_lexer": "ipython3",
   "version": "3.11.11"
  },
  "papermill": {
   "default_parameters": {},
   "duration": 22.313648,
   "end_time": "2025-04-15T15:43:56.632537",
   "environment_variables": {},
   "exception": null,
   "input_path": "__notebook__.ipynb",
   "output_path": "__notebook__.ipynb",
   "parameters": {},
   "start_time": "2025-04-15T15:43:34.318889",
   "version": "2.6.0"
  }
 },
 "nbformat": 4,
 "nbformat_minor": 5
}
